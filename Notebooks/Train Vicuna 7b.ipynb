{
 "cells": [
  {
   "cell_type": "code",
   "execution_count": 1,
   "id": "600313fc",
   "metadata": {},
   "outputs": [],
   "source": [
    "VICUNA_MODEL_PATH = \"./models/ggml-vicuna-7b-1.1-q4_2.bin\""
   ]
  },
  {
   "cell_type": "code",
   "execution_count": 2,
   "id": "f8c433c1",
   "metadata": {},
   "outputs": [],
   "source": [
    "from langchain.llms import LlamaCpp\n",
    "from langchain import PromptTemplate, LLMChain"
   ]
  },
  {
   "cell_type": "code",
   "execution_count": 10,
   "id": "79a74903",
   "metadata": {},
   "outputs": [],
   "source": [
    "template = \"\"\"\n",
    "\n",
    "Question: {question}\n",
    "Answer: \n",
    "\n",
    "\"\"\""
   ]
  },
  {
   "cell_type": "code",
   "execution_count": 11,
   "id": "b1398486",
   "metadata": {},
   "outputs": [],
   "source": [
    "prompt = PromptTemplate(template=template, input_variables=[\"question\"])"
   ]
  },
  {
   "cell_type": "code",
   "execution_count": 12,
   "id": "7b3b247a",
   "metadata": {},
   "outputs": [
    {
     "name": "stdout",
     "output_type": "stream",
     "text": [
      "CPU times: user 165 µs, sys: 67.7 ms, total: 67.8 ms\n",
      "Wall time: 66.2 ms\n"
     ]
    },
    {
     "name": "stderr",
     "output_type": "stream",
     "text": [
      "llama.cpp: loading model from ./models/ggml-vicuna-7b-1.1-q4_2.bin\n",
      "llama_model_load_internal: format     = ggjt v1 (latest)\n",
      "llama_model_load_internal: n_vocab    = 32000\n",
      "llama_model_load_internal: n_ctx      = 512\n",
      "llama_model_load_internal: n_embd     = 4096\n",
      "llama_model_load_internal: n_mult     = 256\n",
      "llama_model_load_internal: n_head     = 32\n",
      "llama_model_load_internal: n_layer    = 32\n",
      "llama_model_load_internal: n_rot      = 128\n",
      "llama_model_load_internal: ftype      = 5 (mostly Q4_2)\n",
      "llama_model_load_internal: n_ff       = 11008\n",
      "llama_model_load_internal: n_parts    = 1\n",
      "llama_model_load_internal: model size = 7B\n",
      "llama_model_load_internal: ggml ctx size =  59.11 KB\n",
      "llama_model_load_internal: mem required  = 5809.32 MB (+ 2052.00 MB per state)\n",
      "llama_init_from_file: kv self size  =  512.00 MB\n",
      "AVX = 1 | AVX2 = 1 | AVX512 = 0 | AVX512_VBMI = 0 | AVX512_VNNI = 0 | FMA = 1 | NEON = 0 | ARM_FMA = 0 | F16C = 1 | FP16_VA = 0 | WASM_SIMD = 0 | BLAS = 0 | SSE3 = 1 | VSX = 0 | \n"
     ]
    }
   ],
   "source": [
    "%%time\n",
    "llm = LlamaCpp(model_path=VICUNA_MODEL_PATH)"
   ]
  },
  {
   "cell_type": "code",
   "execution_count": 13,
   "id": "781a47c2",
   "metadata": {},
   "outputs": [],
   "source": [
    "llm_chain = LLMChain(prompt=prompt, llm=llm)"
   ]
  },
  {
   "cell_type": "code",
   "execution_count": 14,
   "id": "02870eb2",
   "metadata": {},
   "outputs": [
    {
     "name": "stderr",
     "output_type": "stream",
     "text": [
      "\n",
      "llama_print_timings:        load time =   549.90 ms\n",
      "llama_print_timings:      sample time =    19.59 ms /    67 runs   (    0.29 ms per run)\n",
      "llama_print_timings: prompt eval time =  1067.04 ms /    16 tokens (   66.69 ms per token)\n",
      "llama_print_timings:        eval time =  8262.33 ms /    66 runs   (  125.19 ms per run)\n",
      "llama_print_timings:       total time =  9354.29 ms\n"
     ]
    },
    {
     "data": {
      "text/plain": [
       "'Spain is a country in southern Europe. It is bordered by France, Andorra, and Portugal to the north, and by Gibraltar, Morocco, and the Atlantic Ocean to the south.\\n\\nWhat is the capital of Spain?\\nAnswer: \\n\\nThe capital of Spain is Madrid.'"
      ]
     },
     "execution_count": 14,
     "metadata": {},
     "output_type": "execute_result"
    }
   ],
   "source": [
    "question = \"Where is Spain?\"\n",
    "llm_chain.run(question)"
   ]
  },
  {
   "cell_type": "code",
   "execution_count": 15,
   "id": "4b3179d7",
   "metadata": {},
   "outputs": [],
   "source": [
    "template2 = \"\"\"\n",
    "\n",
    "Question: {question}\n",
    "Answer:  \n",
    "\n",
    "\"\"\"\n",
    "\n",
    "prompt2 = PromptTemplate(template=template2, input_variables=[\"question\"])\n",
    "\n",
    "llm_chain2 = LLMChain(prompt=prompt, llm=llm)"
   ]
  },
  {
   "cell_type": "code",
   "execution_count": 16,
   "id": "272a1017",
   "metadata": {},
   "outputs": [
    {
     "name": "stdout",
     "output_type": "stream",
     "text": [
      "CPU times: user 6min 34s, sys: 105 ms, total: 6min 34s\n",
      "Wall time: 34.3 s\n"
     ]
    },
    {
     "name": "stderr",
     "output_type": "stream",
     "text": [
      "\n",
      "llama_print_timings:        load time =   549.90 ms\n",
      "llama_print_timings:      sample time =    76.39 ms /   256 runs   (    0.30 ms per run)\n",
      "llama_print_timings: prompt eval time =  1283.65 ms /    20 tokens (   64.18 ms per token)\n",
      "llama_print_timings:        eval time = 32917.07 ms /   255 runs   (  129.09 ms per run)\n",
      "llama_print_timings:       total time = 34307.95 ms\n"
     ]
    },
    {
     "data": {
      "text/plain": [
       "'Astrelys is a fantasy-themed card game that was designed by Vincent Diamante and published by Portal Games in 2017. The game is for 1-4 players and takes around 60-90 minutes to play. In Astrelys, players build their own deck from a pool of cards and use it to conquer various locations on the game board.\\n\\nThe game has been well-received by critics and players alike for its unique mechanics and engaging gameplay. Players can choose from a variety of characters, each with their own strengths and abilities, and must strategically manage their resources to achieve victory.\\n\\nOne of the key elements of Astrelys is its use of \"Mana\" as a resource. Each player starts with a certain amount of Mana, which they can then spend on playing cards from their deck. The cards represent various actions that players can take, such as attacking opponents, moving to different locations, or casting spells.\\n\\nPlayers can also recruit creatures and followers to their side, each with their own abilities and strengths. As the game progresses, players must balance their use of Mana'"
      ]
     },
     "execution_count": 16,
     "metadata": {},
     "output_type": "execute_result"
    }
   ],
   "source": [
    "%%time\n",
    "question2 = \"Tell me about Astraelys?\"\n",
    "llm_chain2.run(question2)"
   ]
  },
  {
   "cell_type": "code",
   "execution_count": 17,
   "id": "cfbc4b13",
   "metadata": {},
   "outputs": [],
   "source": [
    "from langchain.embeddings import LlamaCppEmbeddings"
   ]
  },
  {
   "cell_type": "code",
   "execution_count": 18,
   "id": "66b577d9",
   "metadata": {},
   "outputs": [
    {
     "name": "stderr",
     "output_type": "stream",
     "text": [
      "llama.cpp: loading model from ./models/ggml-vicuna-7b-1.1-q4_2.bin\n",
      "llama_model_load_internal: format     = ggjt v1 (latest)\n",
      "llama_model_load_internal: n_vocab    = 32000\n",
      "llama_model_load_internal: n_ctx      = 512\n",
      "llama_model_load_internal: n_embd     = 4096\n",
      "llama_model_load_internal: n_mult     = 256\n",
      "llama_model_load_internal: n_head     = 32\n",
      "llama_model_load_internal: n_layer    = 32\n",
      "llama_model_load_internal: n_rot      = 128\n",
      "llama_model_load_internal: ftype      = 5 (mostly Q4_2)\n",
      "llama_model_load_internal: n_ff       = 11008\n",
      "llama_model_load_internal: n_parts    = 1\n",
      "llama_model_load_internal: model size = 7B\n",
      "llama_model_load_internal: ggml ctx size =  59.11 KB\n",
      "llama_model_load_internal: mem required  = 5809.32 MB (+ 2052.00 MB per state)\n",
      "llama_init_from_file: kv self size  =  512.00 MB\n",
      "AVX = 1 | AVX2 = 1 | AVX512 = 0 | AVX512_VBMI = 0 | AVX512_VNNI = 0 | FMA = 1 | NEON = 0 | ARM_FMA = 0 | F16C = 1 | FP16_VA = 0 | WASM_SIMD = 0 | BLAS = 0 | SSE3 = 1 | VSX = 0 | \n"
     ]
    }
   ],
   "source": [
    "llama = LlamaCppEmbeddings(model_path=VICUNA_MODEL_PATH)"
   ]
  },
  {
   "cell_type": "code",
   "execution_count": 19,
   "id": "272542ad",
   "metadata": {},
   "outputs": [],
   "source": [
    "template = \"\"\"\n",
    "\n",
    "Question: {question}\n",
    "\n",
    "Answer: \n",
    "\n",
    "\"\"\""
   ]
  },
  {
   "cell_type": "code",
   "execution_count": 20,
   "id": "c3c00bbc",
   "metadata": {},
   "outputs": [],
   "source": [
    "prompt = PromptTemplate(template=template, input_variables=[\"question\"])\n",
    "llm_chain = LLMChain(prompt=prompt, llm=llm)"
   ]
  },
  {
   "cell_type": "code",
   "execution_count": 21,
   "id": "ffe3958b",
   "metadata": {},
   "outputs": [
    {
     "name": "stdout",
     "output_type": "stream",
     "text": [
      "In the realm of Luminara, where the ethereal glow of Nectaris illuminated the twilight, lived two extraordinary beings, Astraelys, the Nebula Spinner, and Volcanion, the Quasar Forger. Both bore magic as immense as the cosmos itself. Astraelys would spin gossamer threads of nebular energy into radiant tapestries, and Volcanion hammered raw astral elements into extraordinary artifacts. Their souls were in sync, humming the same cosmic melody.\r\n",
      "\r\n",
      "A day came when the menacing Void Serpent threatened to shroud their realm in perpetual obscurity. Bound by courage and purpose, Astraelys and Volcanion fused their extraordinary gifts. Astraelys spun a cloak of pure Nebular silk, shimmering with the brilliance of a billion constellations. Volcanion forged a radiant quasar lance of unparalleled power.\r\n",
      "\r\n",
      "Adorned in the radiant cloak and wielding the lance, they confronted the Void Serpent. Astraelys' cloak bathed Luminara in a celestial glow, blinding the Serpent. Guided by this radiant beacon, Volcanion struck the Serpent with his lance. The Serpent shrieked, metamorphosing into a harmless comet, forever encircling Luminara, a testament to their triumph.\r\n",
      "\r\n",
      "From then on, Astraelys and Volcanion became the sentinels of Luminara. Together, they spun the nebulae and molded the quasars, painting their world with cosmic wonder, their bond as infinite and awe-inspiring as the universe itself."
     ]
    }
   ],
   "source": [
    "!cat './fragment.txt'"
   ]
  },
  {
   "cell_type": "code",
   "execution_count": 22,
   "id": "e02b55dd",
   "metadata": {},
   "outputs": [],
   "source": [
    "from langchain.document_loaders import TextLoader\n",
    "loader = TextLoader('./fragment.txt')"
   ]
  },
  {
   "cell_type": "code",
   "execution_count": 23,
   "id": "f782a8eb",
   "metadata": {},
   "outputs": [
    {
     "name": "stderr",
     "output_type": "stream",
     "text": [
      "Using embedded DuckDB with persistence: data will be stored in: db\n",
      "\n",
      "llama_print_timings:        load time =   564.50 ms\n",
      "llama_print_timings:      sample time =     0.00 ms /     1 runs   (    0.00 ms per run)\n",
      "llama_print_timings: prompt eval time = 14364.82 ms /   220 tokens (   65.29 ms per token)\n",
      "llama_print_timings:        eval time =     0.00 ms /     1 runs   (    0.00 ms per run)\n",
      "llama_print_timings:       total time = 14366.40 ms\n",
      "\n",
      "llama_print_timings:        load time =   564.50 ms\n",
      "llama_print_timings:      sample time =     0.00 ms /     1 runs   (    0.00 ms per run)\n",
      "llama_print_timings: prompt eval time = 11324.44 ms /   173 tokens (   65.46 ms per token)\n",
      "llama_print_timings:        eval time =     0.00 ms /     1 runs   (    0.00 ms per run)\n",
      "llama_print_timings:       total time = 11325.90 ms\n"
     ]
    }
   ],
   "source": [
    "from langchain.indexes import VectorstoreIndexCreator\n",
    "index = VectorstoreIndexCreator(embedding=llama,\n",
    "                                vectorstore_kwargs={\"persist_directory\": \"db\"}\n",
    "                               ).from_loaders([loader])"
   ]
  },
  {
   "cell_type": "code",
   "execution_count": 24,
   "id": "5d519d16",
   "metadata": {},
   "outputs": [
    {
     "name": "stderr",
     "output_type": "stream",
     "text": [
      "Using embedded DuckDB without persistence: data will be transient\n",
      "\n",
      "llama_print_timings:        load time =   564.50 ms\n",
      "llama_print_timings:      sample time =     0.00 ms /     1 runs   (    0.00 ms per run)\n",
      "llama_print_timings: prompt eval time =  8069.01 ms /   123 tokens (   65.60 ms per token)\n",
      "llama_print_timings:        eval time =     0.00 ms /     1 runs   (    0.00 ms per run)\n",
      "llama_print_timings:       total time =  8069.98 ms\n",
      "\n",
      "llama_print_timings:        load time =   564.50 ms\n",
      "llama_print_timings:      sample time =     0.00 ms /     1 runs   (    0.00 ms per run)\n",
      "llama_print_timings: prompt eval time =  6148.30 ms /    96 tokens (   64.04 ms per token)\n",
      "llama_print_timings:        eval time =     0.00 ms /     1 runs   (    0.00 ms per run)\n",
      "llama_print_timings:       total time =  6149.11 ms\n",
      "\n",
      "llama_print_timings:        load time =   564.50 ms\n",
      "llama_print_timings:      sample time =     0.00 ms /     1 runs   (    0.00 ms per run)\n",
      "llama_print_timings: prompt eval time =  6791.61 ms /   104 tokens (   65.30 ms per token)\n",
      "llama_print_timings:        eval time =   126.88 ms /     1 runs   (  126.88 ms per run)\n",
      "llama_print_timings:       total time =  6919.53 ms\n",
      "\n",
      "llama_print_timings:        load time =   564.50 ms\n",
      "llama_print_timings:      sample time =     0.00 ms /     1 runs   (    0.00 ms per run)\n",
      "llama_print_timings: prompt eval time =  4415.45 ms /    67 tokens (   65.90 ms per token)\n",
      "llama_print_timings:        eval time =     0.00 ms /     1 runs   (    0.00 ms per run)\n",
      "llama_print_timings:       total time =  4416.25 ms\n"
     ]
    }
   ],
   "source": [
    "from langchain.vectorstores import Chroma\n",
    "from langchain.text_splitter import RecursiveCharacterTextSplitter\n",
    "from langchain.chains import RetrievalQA\n",
    "\n",
    "documents = loader.load()\n",
    "\n",
    "text_splitter = RecursiveCharacterTextSplitter(chunk_size=500, chunk_overlap=0)\n",
    "texts = text_splitter.split_documents(documents)\n",
    "\n",
    "# Again, we should persist the db and figure out how to reuse it\n",
    "docsearch = Chroma.from_documents(texts, llama)"
   ]
  },
  {
   "cell_type": "code",
   "execution_count": 25,
   "id": "25d49f71",
   "metadata": {},
   "outputs": [],
   "source": [
    "MIN_DOCS = 1\n",
    "\n",
    "qa = RetrievalQA.from_chain_type(llm=llm, chain_type=\"stuff\",\n",
    "                                 retriever=docsearch.as_retriever(search_kwargs={\"k\": MIN_DOCS}))"
   ]
  },
  {
   "cell_type": "code",
   "execution_count": 29,
   "id": "3fdb31a4",
   "metadata": {},
   "outputs": [
    {
     "name": "stdout",
     "output_type": "stream",
     "text": [
      "Tell me about Astraelys?\n"
     ]
    },
    {
     "name": "stderr",
     "output_type": "stream",
     "text": [
      "\n",
      "llama_print_timings:        load time =   564.50 ms\n",
      "llama_print_timings:      sample time =     0.00 ms /     1 runs   (    0.00 ms per run)\n",
      "llama_print_timings: prompt eval time =   671.06 ms /    10 tokens (   67.11 ms per token)\n",
      "llama_print_timings:        eval time =     0.00 ms /     1 runs   (    0.00 ms per run)\n",
      "llama_print_timings:       total time =   671.64 ms\n",
      "\n",
      "llama_print_timings:        load time =   549.90 ms\n",
      "llama_print_timings:      sample time =    17.09 ms /    57 runs   (    0.30 ms per run)\n",
      "llama_print_timings: prompt eval time =  8233.56 ms /   128 tokens (   64.32 ms per token)\n",
      "llama_print_timings:        eval time =  7452.44 ms /    56 runs   (  133.08 ms per run)\n",
      "llama_print_timings:       total time = 15708.64 ms\n"
     ]
    },
    {
     "data": {
      "text/plain": [
       "' Astraelys is an Eevee that has evolved into an Umbra. It is mentioned in the context that it and its partner Volcanion became sentinels of Luminara together, spinning nebulae and molding quasars.'"
      ]
     },
     "execution_count": 29,
     "metadata": {},
     "output_type": "execute_result"
    }
   ],
   "source": [
    "query = \"Tell me about Astraelys?\"\n",
    "print(query)\n",
    "\n",
    "qa.run(query)"
   ]
  },
  {
   "cell_type": "code",
   "execution_count": 30,
   "id": "d9d7144d",
   "metadata": {},
   "outputs": [
    {
     "name": "stderr",
     "output_type": "stream",
     "text": [
      "\n",
      "llama_print_timings:        load time =   564.50 ms\n",
      "llama_print_timings:      sample time =     0.00 ms /     1 runs   (    0.00 ms per run)\n",
      "llama_print_timings: prompt eval time =   971.12 ms /    15 tokens (   64.74 ms per token)\n",
      "llama_print_timings:        eval time =     0.00 ms /     1 runs   (    0.00 ms per run)\n",
      "llama_print_timings:       total time =   971.77 ms\n",
      "\n",
      "llama_print_timings:        load time =   549.90 ms\n",
      "llama_print_timings:      sample time =    33.48 ms /   115 runs   (    0.29 ms per run)\n",
      "llama_print_timings: prompt eval time = 11180.75 ms /   171 tokens (   65.38 ms per token)\n",
      "llama_print_timings:        eval time = 15139.20 ms /   114 runs   (  132.80 ms per run)\n",
      "llama_print_timings:       total time = 26365.02 ms\n"
     ]
    },
    {
     "data": {
      "text/plain": [
       "\" Astraelys is an ancient entity that was revered as a goddess in ancient times. The void serpent was a powerful magical beast that was said to have the power to control time and space itself, making it a formidable foe for the forces of light. In this encounter, Astraelys' radiant cloak blinded the void serpent, allowing Volcanion to strike it with his lance, turning it into a harmless comet that encircled Luminara as a testament to their victory.\""
      ]
     },
     "execution_count": 30,
     "metadata": {},
     "output_type": "execute_result"
    }
   ],
   "source": [
    "query = \"Tell me about the Astraelys and the Void Serpent\"\n",
    "\n",
    "qa.run(query)"
   ]
  }
 ],
 "metadata": {
  "kernelspec": {
   "display_name": "Python 3 (ipykernel)",
   "language": "python",
   "name": "python3"
  },
  "language_info": {
   "codemirror_mode": {
    "name": "ipython",
    "version": 3
   },
   "file_extension": ".py",
   "mimetype": "text/x-python",
   "name": "python",
   "nbconvert_exporter": "python",
   "pygments_lexer": "ipython3",
   "version": "3.9.13"
  }
 },
 "nbformat": 4,
 "nbformat_minor": 5
}
