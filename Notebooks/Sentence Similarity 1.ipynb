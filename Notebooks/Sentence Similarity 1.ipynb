{
 "cells": [
  {
   "cell_type": "code",
   "execution_count": 1,
   "id": "e7355e36-6327-4ee4-a7f6-47e2f9e8fe42",
   "metadata": {},
   "outputs": [
    {
     "name": "stdout",
     "output_type": "stream",
     "text": [
      "Collecting sentence-transformers\n",
      "  Downloading sentence_transformers-2.7.0-py3-none-any.whl.metadata (11 kB)\n",
      "Requirement already satisfied: transformers<5.0.0,>=4.34.0 in /home/drusniel/llm_notebooks/myenv/lib/python3.12/site-packages (from sentence-transformers) (4.40.2)\n",
      "Requirement already satisfied: tqdm in /home/drusniel/llm_notebooks/myenv/lib/python3.12/site-packages (from sentence-transformers) (4.66.4)\n",
      "Requirement already satisfied: torch>=1.11.0 in /home/drusniel/llm_notebooks/myenv/lib/python3.12/site-packages (from sentence-transformers) (2.3.0)\n",
      "Requirement already satisfied: numpy in /home/drusniel/llm_notebooks/myenv/lib/python3.12/site-packages (from sentence-transformers) (1.26.4)\n",
      "Collecting scikit-learn (from sentence-transformers)\n",
      "  Downloading scikit_learn-1.5.0-cp312-cp312-manylinux_2_17_x86_64.manylinux2014_x86_64.whl.metadata (11 kB)\n",
      "Requirement already satisfied: scipy in /home/drusniel/llm_notebooks/myenv/lib/python3.12/site-packages (from sentence-transformers) (1.13.0)\n",
      "Requirement already satisfied: huggingface-hub>=0.15.1 in /home/drusniel/llm_notebooks/myenv/lib/python3.12/site-packages (from sentence-transformers) (0.23.0)\n",
      "Requirement already satisfied: Pillow in /home/drusniel/llm_notebooks/myenv/lib/python3.12/site-packages (from sentence-transformers) (10.3.0)\n",
      "Requirement already satisfied: filelock in /home/drusniel/llm_notebooks/myenv/lib/python3.12/site-packages (from huggingface-hub>=0.15.1->sentence-transformers) (3.14.0)\n",
      "Requirement already satisfied: fsspec>=2023.5.0 in /home/drusniel/llm_notebooks/myenv/lib/python3.12/site-packages (from huggingface-hub>=0.15.1->sentence-transformers) (2023.10.0)\n",
      "Requirement already satisfied: packaging>=20.9 in /home/drusniel/llm_notebooks/myenv/lib/python3.12/site-packages (from huggingface-hub>=0.15.1->sentence-transformers) (24.0)\n",
      "Requirement already satisfied: pyyaml>=5.1 in /home/drusniel/llm_notebooks/myenv/lib/python3.12/site-packages (from huggingface-hub>=0.15.1->sentence-transformers) (6.0.1)\n",
      "Requirement already satisfied: requests in /home/drusniel/llm_notebooks/myenv/lib/python3.12/site-packages (from huggingface-hub>=0.15.1->sentence-transformers) (2.31.0)\n",
      "Requirement already satisfied: typing-extensions>=3.7.4.3 in /home/drusniel/llm_notebooks/myenv/lib/python3.12/site-packages (from huggingface-hub>=0.15.1->sentence-transformers) (4.11.0)\n",
      "Requirement already satisfied: sympy in /home/drusniel/llm_notebooks/myenv/lib/python3.12/site-packages (from torch>=1.11.0->sentence-transformers) (1.12)\n",
      "Requirement already satisfied: networkx in /home/drusniel/llm_notebooks/myenv/lib/python3.12/site-packages (from torch>=1.11.0->sentence-transformers) (3.3)\n",
      "Requirement already satisfied: jinja2 in /home/drusniel/llm_notebooks/myenv/lib/python3.12/site-packages (from torch>=1.11.0->sentence-transformers) (3.1.4)\n",
      "Requirement already satisfied: nvidia-cuda-nvrtc-cu12==12.1.105 in /home/drusniel/llm_notebooks/myenv/lib/python3.12/site-packages (from torch>=1.11.0->sentence-transformers) (12.1.105)\n",
      "Requirement already satisfied: nvidia-cuda-runtime-cu12==12.1.105 in /home/drusniel/llm_notebooks/myenv/lib/python3.12/site-packages (from torch>=1.11.0->sentence-transformers) (12.1.105)\n",
      "Requirement already satisfied: nvidia-cuda-cupti-cu12==12.1.105 in /home/drusniel/llm_notebooks/myenv/lib/python3.12/site-packages (from torch>=1.11.0->sentence-transformers) (12.1.105)\n",
      "Requirement already satisfied: nvidia-cudnn-cu12==8.9.2.26 in /home/drusniel/llm_notebooks/myenv/lib/python3.12/site-packages (from torch>=1.11.0->sentence-transformers) (8.9.2.26)\n",
      "Requirement already satisfied: nvidia-cublas-cu12==12.1.3.1 in /home/drusniel/llm_notebooks/myenv/lib/python3.12/site-packages (from torch>=1.11.0->sentence-transformers) (12.1.3.1)\n",
      "Requirement already satisfied: nvidia-cufft-cu12==11.0.2.54 in /home/drusniel/llm_notebooks/myenv/lib/python3.12/site-packages (from torch>=1.11.0->sentence-transformers) (11.0.2.54)\n",
      "Requirement already satisfied: nvidia-curand-cu12==10.3.2.106 in /home/drusniel/llm_notebooks/myenv/lib/python3.12/site-packages (from torch>=1.11.0->sentence-transformers) (10.3.2.106)\n",
      "Requirement already satisfied: nvidia-cusolver-cu12==11.4.5.107 in /home/drusniel/llm_notebooks/myenv/lib/python3.12/site-packages (from torch>=1.11.0->sentence-transformers) (11.4.5.107)\n",
      "Requirement already satisfied: nvidia-cusparse-cu12==12.1.0.106 in /home/drusniel/llm_notebooks/myenv/lib/python3.12/site-packages (from torch>=1.11.0->sentence-transformers) (12.1.0.106)\n",
      "Requirement already satisfied: nvidia-nccl-cu12==2.20.5 in /home/drusniel/llm_notebooks/myenv/lib/python3.12/site-packages (from torch>=1.11.0->sentence-transformers) (2.20.5)\n",
      "Requirement already satisfied: nvidia-nvtx-cu12==12.1.105 in /home/drusniel/llm_notebooks/myenv/lib/python3.12/site-packages (from torch>=1.11.0->sentence-transformers) (12.1.105)\n",
      "Requirement already satisfied: nvidia-nvjitlink-cu12 in /home/drusniel/llm_notebooks/myenv/lib/python3.12/site-packages (from nvidia-cusolver-cu12==11.4.5.107->torch>=1.11.0->sentence-transformers) (12.4.127)\n",
      "Requirement already satisfied: regex!=2019.12.17 in /home/drusniel/llm_notebooks/myenv/lib/python3.12/site-packages (from transformers<5.0.0,>=4.34.0->sentence-transformers) (2024.4.28)\n",
      "Requirement already satisfied: tokenizers<0.20,>=0.19 in /home/drusniel/llm_notebooks/myenv/lib/python3.12/site-packages (from transformers<5.0.0,>=4.34.0->sentence-transformers) (0.19.1)\n",
      "Requirement already satisfied: safetensors>=0.4.1 in /home/drusniel/llm_notebooks/myenv/lib/python3.12/site-packages (from transformers<5.0.0,>=4.34.0->sentence-transformers) (0.4.3)\n",
      "Collecting joblib>=1.2.0 (from scikit-learn->sentence-transformers)\n",
      "  Downloading joblib-1.4.2-py3-none-any.whl.metadata (5.4 kB)\n",
      "Collecting threadpoolctl>=3.1.0 (from scikit-learn->sentence-transformers)\n",
      "  Downloading threadpoolctl-3.5.0-py3-none-any.whl.metadata (13 kB)\n",
      "Requirement already satisfied: MarkupSafe>=2.0 in /home/drusniel/llm_notebooks/myenv/lib/python3.12/site-packages (from jinja2->torch>=1.11.0->sentence-transformers) (2.1.5)\n",
      "Requirement already satisfied: charset-normalizer<4,>=2 in /home/drusniel/llm_notebooks/myenv/lib/python3.12/site-packages (from requests->huggingface-hub>=0.15.1->sentence-transformers) (3.3.2)\n",
      "Requirement already satisfied: idna<4,>=2.5 in /home/drusniel/llm_notebooks/myenv/lib/python3.12/site-packages (from requests->huggingface-hub>=0.15.1->sentence-transformers) (3.7)\n",
      "Requirement already satisfied: urllib3<3,>=1.21.1 in /home/drusniel/llm_notebooks/myenv/lib/python3.12/site-packages (from requests->huggingface-hub>=0.15.1->sentence-transformers) (2.2.1)\n",
      "Requirement already satisfied: certifi>=2017.4.17 in /home/drusniel/llm_notebooks/myenv/lib/python3.12/site-packages (from requests->huggingface-hub>=0.15.1->sentence-transformers) (2024.2.2)\n",
      "Requirement already satisfied: mpmath>=0.19 in /home/drusniel/llm_notebooks/myenv/lib/python3.12/site-packages (from sympy->torch>=1.11.0->sentence-transformers) (1.3.0)\n",
      "Downloading sentence_transformers-2.7.0-py3-none-any.whl (171 kB)\n",
      "\u001b[2K   \u001b[90m━━━━━━━━━━━━━━━━━━━━━━━━━━━━━━━━━━━━━━━━\u001b[0m \u001b[32m171.5/171.5 kB\u001b[0m \u001b[31m4.9 MB/s\u001b[0m eta \u001b[36m0:00:00\u001b[0m\n",
      "\u001b[?25hDownloading scikit_learn-1.5.0-cp312-cp312-manylinux_2_17_x86_64.manylinux2014_x86_64.whl (13.1 MB)\n",
      "\u001b[2K   \u001b[90m━━━━━━━━━━━━━━━━━━━━━━━━━━━━━━━━━━━━━━━━\u001b[0m \u001b[32m13.1/13.1 MB\u001b[0m \u001b[31m18.5 MB/s\u001b[0m eta \u001b[36m0:00:00\u001b[0m00:01\u001b[0m00:01\u001b[0m\n",
      "\u001b[?25hDownloading joblib-1.4.2-py3-none-any.whl (301 kB)\n",
      "\u001b[2K   \u001b[90m━━━━━━━━━━━━━━━━━━━━━━━━━━━━━━━━━━━━━━━━\u001b[0m \u001b[32m301.8/301.8 kB\u001b[0m \u001b[31m9.7 MB/s\u001b[0m eta \u001b[36m0:00:00\u001b[0m\n",
      "\u001b[?25hDownloading threadpoolctl-3.5.0-py3-none-any.whl (18 kB)\n",
      "Installing collected packages: threadpoolctl, joblib, scikit-learn, sentence-transformers\n",
      "Successfully installed joblib-1.4.2 scikit-learn-1.5.0 sentence-transformers-2.7.0 threadpoolctl-3.5.0\n"
     ]
    }
   ],
   "source": [
    "!pip install sentence-transformers"
   ]
  },
  {
   "cell_type": "code",
   "execution_count": 6,
   "id": "28c94c74-9122-470c-a6c7-d8a70c53768a",
   "metadata": {},
   "outputs": [],
   "source": [
    "import numpy as np\n",
    "from sklearn.metrics.pairwise import cosine_similarity\n",
    "from sentence_transformers import SentenceTransformer\n",
    "import logging\n",
    "\n",
    "# Configure logging\n",
    "logging.basicConfig(level=logging.INFO)\n",
    "logger = logging.getLogger(__name__)"
   ]
  },
  {
   "cell_type": "code",
   "execution_count": 7,
   "id": "6e764571-c2b1-41b8-84cb-d41ba289d14e",
   "metadata": {},
   "outputs": [
    {
     "name": "stderr",
     "output_type": "stream",
     "text": [
      "INFO:sentence_transformers.SentenceTransformer:Load pretrained SentenceTransformer: paraphrase-MiniLM-L6-v2\n",
      "/home/drusniel/llm_notebooks/myenv/lib/python3.12/site-packages/huggingface_hub/file_download.py:1132: FutureWarning: `resume_download` is deprecated and will be removed in version 1.0.0. Downloads always resume when possible. If you want to force a new download, use `force_download=True`.\n",
      "  warnings.warn(\n",
      "/home/drusniel/llm_notebooks/myenv/lib/python3.12/site-packages/huggingface_hub/file_download.py:1132: FutureWarning: `resume_download` is deprecated and will be removed in version 1.0.0. Downloads always resume when possible. If you want to force a new download, use `force_download=True`.\n",
      "  warnings.warn(\n",
      "INFO:sentence_transformers.SentenceTransformer:Use pytorch device_name: cuda\n"
     ]
    }
   ],
   "source": [
    "# Load pre-trained SentenceTransformer model\n",
    "model = SentenceTransformer('paraphrase-MiniLM-L6-v2')"
   ]
  },
  {
   "cell_type": "code",
   "execution_count": 8,
   "id": "82340413-c0f9-4b83-9cc0-24d366144e6c",
   "metadata": {},
   "outputs": [
    {
     "name": "stderr",
     "output_type": "stream",
     "text": [
      "INFO:__main__:Sentences from text1: ['As the sun sank below the horizon, casting shadows across Thistledown, a group of adventurers gathered around a flickering campfire', 'The air was full of the scent of pine and the distant calls of nocturnal animals.\\n\\n\"Are you sure this is the right path, Elaria?\" asked Thorne, his hand on the hilt of his sword', 'He peered out at the darkening forest warily.\\n\\n\"The map led us here,\" said Elaria, a slim elf with piercing green eyes', '\"The ancient runes spoke of a temple hidden beyond the Silverstream', 'We must trust in the old ways.\"\\n\\nBrakkar, the burly dwarf, sighed and adjusted his axe', '\"Trusting in old runes and forgotten temples..', 'This had better lead to treasure worth all this trouble.\"\\n\\n\"Not all treasures are made of gold, Brakkar,\" said Lyra, the group\\'s sorceress', 'Her eyes reflected the light of the fire', '\"Some secrets are far more valuable.\"\\n\\nThorne smiled', '\"Secrets or gold..', 'We\\'ll find out soon enough.\"']\n",
      "INFO:__main__:Sentences from text2: ['The sun was just setting, and Thistledown was darkening by degrees', 'A campfire burned at the center of a small group of adventurers—some humans, some elves, and one dwarf', 'The air held the scent of pine, and the distant call of nocturnal animals echoed through the forest.\\n\\n\"Are you sure this is right?\" Thorne asked Elaria, who was pointing at a trail', '\"We\\'re supposed to be going toward the Silverstream.\"\\n\\n\"The map we found led us here,\" said Elaria, an elf', 'Her green eyes glinted with a hint of mischief in the firelight', '\"It spoke of a temple hidden beyond the river', 'We\\'ll see if those old runes hold any truth.\"\\n\\n\"Trusting in old runes and forgotten temples?\" Brakkar said, adjusting his axe', '\"Hope it leads to treasure worth all this trouble.\"\\n\\nLyra smiled at that', '\"Not all treasures are made of gold', 'Some secrets are far more valuable.\"']\n"
     ]
    },
    {
     "data": {
      "application/vnd.jupyter.widget-view+json": {
       "model_id": "cc49254d568c4167b78b742579ca0dd6",
       "version_major": 2,
       "version_minor": 0
      },
      "text/plain": [
       "Batches:   0%|          | 0/1 [00:00<?, ?it/s]"
      ]
     },
     "metadata": {},
     "output_type": "display_data"
    },
    {
     "data": {
      "application/vnd.jupyter.widget-view+json": {
       "model_id": "da58549b214f4fac8f4ac3fb09f16bc4",
       "version_major": 2,
       "version_minor": 0
      },
      "text/plain": [
       "Batches:   0%|          | 0/1 [00:00<?, ?it/s]"
      ]
     },
     "metadata": {},
     "output_type": "display_data"
    },
    {
     "name": "stderr",
     "output_type": "stream",
     "text": [
      "INFO:__main__:Similarity matrix: [[ 0.47909266  0.7808743   0.36432648  0.19050679  0.40290454  0.18935221\n",
      "   0.25128692  0.06008013  0.04477419  0.0572561 ]\n",
      " [ 0.34853593  0.3029966   0.87715924  0.49618113  0.25114632  0.35833463\n",
      "   0.3336891   0.27747256  0.12796298  0.18529359]\n",
      " [ 0.3810831   0.22356963  0.5719634   0.729069    0.3822515   0.3341831\n",
      "   0.32547677  0.3643644   0.04114632  0.14702854]\n",
      " [ 0.20595044  0.23514651  0.2690522   0.5077661   0.2075455   0.76063037\n",
      "   0.65164995  0.3201077   0.42035162  0.2961071 ]\n",
      " [ 0.17049411  0.196282    0.26436275  0.28011551  0.24448109  0.18634276\n",
      "   0.6388257   0.25879085  0.1826383   0.21228862]\n",
      " [ 0.12994505  0.19518682  0.20609137  0.33249357  0.09088229  0.54658014\n",
      "   0.8029504   0.29744738  0.3872131   0.28365856]\n",
      " [ 0.01581878  0.14806704  0.19834086  0.3171805   0.1086188   0.2519964\n",
      "   0.3933123   0.6488729   0.7007144   0.52296954]\n",
      " [ 0.35829353  0.3785791   0.4154824   0.21939783  0.7132244   0.24633218\n",
      "   0.13539533  0.24590573  0.10719483  0.04244019]\n",
      " [ 0.08904368  0.03359851  0.37250423  0.28267443  0.25319356  0.20201646\n",
      "   0.32782477  0.5270591   0.34676653  0.74533707]\n",
      " [ 0.01631263  0.04647234  0.18043485  0.19818152  0.17670333  0.25423858\n",
      "   0.2819671   0.3044038   0.59109247  0.61961883]\n",
      " [ 0.1241456  -0.0542742   0.3058715   0.36598504  0.05834229  0.14825493\n",
      "   0.22456066  0.23728466  0.2022456   0.3539843 ]]\n",
      "INFO:__main__:Matched sentences:\n",
      "INFO:__main__:Text1: As the sun sank below the horizon, casting shadows across Thistledown, a group of adventurers gathered around a flickering campfire\n",
      "Text2: A campfire burned at the center of a small group of adventurers—some humans, some elves, and one dwarf\n",
      "Similarity: 0.78\n",
      "INFO:__main__:Text1: The air was full of the scent of pine and the distant calls of nocturnal animals.\n",
      "\n",
      "\"Are you sure this is the right path, Elaria?\" asked Thorne, his hand on the hilt of his sword\n",
      "Text2: The air held the scent of pine, and the distant call of nocturnal animals echoed through the forest.\n",
      "\n",
      "\"Are you sure this is right?\" Thorne asked Elaria, who was pointing at a trail\n",
      "Similarity: 0.88\n",
      "INFO:__main__:Text1: \"The ancient runes spoke of a temple hidden beyond the Silverstream\n",
      "Text2: \"It spoke of a temple hidden beyond the river\n",
      "Similarity: 0.76\n",
      "INFO:__main__:Text1: \"Trusting in old runes and forgotten temples..\n",
      "Text2: We'll see if those old runes hold any truth.\"\n",
      "\n",
      "\"Trusting in old runes and forgotten temples?\" Brakkar said, adjusting his axe\n",
      "Similarity: 0.80\n",
      "INFO:__main__:Unmatched sentences in text1: ['He peered out at the darkening forest warily.\\n\\n\"The map led us here,\" said Elaria, a slim elf with piercing green eyes', 'We must trust in the old ways.\"\\n\\nBrakkar, the burly dwarf, sighed and adjusted his axe', 'This had better lead to treasure worth all this trouble.\"\\n\\n\"Not all treasures are made of gold, Brakkar,\" said Lyra, the group\\'s sorceress', 'Her eyes reflected the light of the fire', '\"Some secrets are far more valuable.\"\\n\\nThorne smiled', '\"Secrets or gold..', 'We\\'ll find out soon enough.\"']\n",
      "INFO:__main__:Unmatched sentences in text2: ['The sun was just setting, and Thistledown was darkening by degrees', '\"We\\'re supposed to be going toward the Silverstream.\"\\n\\n\"The map we found led us here,\" said Elaria, an elf', 'Her green eyes glinted with a hint of mischief in the firelight', '\"Hope it leads to treasure worth all this trouble.\"\\n\\nLyra smiled at that', '\"Not all treasures are made of gold', 'Some secrets are far more valuable.\"']\n"
     ]
    }
   ],
   "source": [
    "def preprocess_text(text):\n",
    "    \"\"\"\n",
    "    Tokenizes the input text into sentences.\n",
    "    \"\"\"\n",
    "    sentences = text.split('. ')\n",
    "    return [sentence.strip() for sentence in sentences if sentence]\n",
    "\n",
    "def get_sentence_embeddings(sentences):\n",
    "    \"\"\"\n",
    "    Converts sentences to embeddings using SentenceTransformer.\n",
    "    \"\"\"\n",
    "    return model.encode(sentences)\n",
    "\n",
    "def match_sentences(text1, text2, threshold=0.75):\n",
    "    \"\"\"\n",
    "    Matches sentences from text1 to text2 based on cosine similarity of their embeddings.\n",
    "    \"\"\"\n",
    "    sentences1 = preprocess_text(text1)\n",
    "    sentences2 = preprocess_text(text2)\n",
    "    \n",
    "    logger.info(\"Sentences from text1: %s\", sentences1)\n",
    "    logger.info(\"Sentences from text2: %s\", sentences2)\n",
    "    \n",
    "    embeddings1 = get_sentence_embeddings(sentences1)\n",
    "    embeddings2 = get_sentence_embeddings(sentences2)\n",
    "    \n",
    "    similarity_matrix = cosine_similarity(embeddings1, embeddings2)\n",
    "    logger.info(\"Similarity matrix: %s\", similarity_matrix)\n",
    "    \n",
    "    matches = []\n",
    "    unmatched1 = set(range(len(sentences1)))\n",
    "    unmatched2 = set(range(len(sentences2)))\n",
    "    \n",
    "    for i, row in enumerate(similarity_matrix):\n",
    "        for j, similarity in enumerate(row):\n",
    "            if similarity > threshold:\n",
    "                matches.append((sentences1[i], sentences2[j], similarity))\n",
    "                unmatched1.discard(i)\n",
    "                unmatched2.discard(j)\n",
    "    \n",
    "    unmatched_sentences1 = [sentences1[i] for i in unmatched1]\n",
    "    unmatched_sentences2 = [sentences2[i] for i in unmatched2]\n",
    "    \n",
    "    return matches, unmatched_sentences1, unmatched_sentences2\n",
    "\n",
    "def main():\n",
    "    text1 = (\"As the sun sank below the horizon, casting shadows across Thistledown, \"\n",
    "             \"a group of adventurers gathered around a flickering campfire. The air was full of the scent of pine and the distant calls of nocturnal animals.\\n\\n\"\n",
    "             \"\\\"Are you sure this is the right path, Elaria?\\\" asked Thorne, his hand on the hilt of his sword. He peered out at the darkening forest warily.\\n\\n\"\n",
    "             \"\\\"The map led us here,\\\" said Elaria, a slim elf with piercing green eyes. \\\"The ancient runes spoke of a temple hidden beyond the Silverstream. We must trust in the old ways.\\\"\\n\\n\"\n",
    "             \"Brakkar, the burly dwarf, sighed and adjusted his axe. \\\"Trusting in old runes and forgotten temples... This had better lead to treasure worth all this trouble.\\\"\\n\\n\"\n",
    "             \"\\\"Not all treasures are made of gold, Brakkar,\\\" said Lyra, the group's sorceress. Her eyes reflected the light of the fire. \\\"Some secrets are far more valuable.\\\"\\n\\n\"\n",
    "             \"Thorne smiled. \\\"Secrets or gold... We'll find out soon enough.\\\"\")\n",
    "\n",
    "    text2 = (\"The sun was just setting, and Thistledown was darkening by degrees. A campfire burned at the center of a small group of adventurers—some humans, some elves, and one dwarf. The air held the scent of pine, and the distant call of nocturnal animals echoed through the forest.\\n\\n\"\n",
    "             \"\\\"Are you sure this is right?\\\" Thorne asked Elaria, who was pointing at a trail. \\\"We're supposed to be going toward the Silverstream.\\\"\\n\\n\"\n",
    "             \"\\\"The map we found led us here,\\\" said Elaria, an elf. Her green eyes glinted with a hint of mischief in the firelight. \\\"It spoke of a temple hidden beyond the river. We'll see if those old runes hold any truth.\\\"\\n\\n\"\n",
    "             \"\\\"Trusting in old runes and forgotten temples?\\\" Brakkar said, adjusting his axe. \\\"Hope it leads to treasure worth all this trouble.\\\"\\n\\n\"\n",
    "             \"Lyra smiled at that. \\\"Not all treasures are made of gold. Some secrets are far more valuable.\\\"\")\n",
    "    \n",
    "    matches, unmatched1, unmatched2 = match_sentences(text1, text2)\n",
    "    \n",
    "    logger.info(\"Matched sentences:\")\n",
    "    for match in matches:\n",
    "        logger.info(\"Text1: %s\\nText2: %s\\nSimilarity: %.2f\", match[0], match[1], match[2])\n",
    "    \n",
    "    logger.info(\"Unmatched sentences in text1: %s\", unmatched1)\n",
    "    logger.info(\"Unmatched sentences in text2: %s\", unmatched2)\n",
    "\n",
    "if __name__ == \"__main__\":\n",
    "    main()"
   ]
  },
  {
   "cell_type": "markdown",
   "id": "b22bbc6e-501f-46a1-9dd4-5cf68d751544",
   "metadata": {},
   "source": [
    "The initial split by . might not capture all sentence boundaries properly, especially when sentences end with other punctuation marks or newlines. We can enhance the preprocessing step to handle various sentence boundaries more accurately. Additionally, we'll adjust the similarity threshold"
   ]
  },
  {
   "cell_type": "code",
   "execution_count": 9,
   "id": "f9149dfe-dc28-4050-a8fc-9b25ee6768b8",
   "metadata": {},
   "outputs": [],
   "source": [
    "import re\n",
    "import numpy as np\n",
    "import logging\n",
    "\n",
    "def preprocess_text(text):\n",
    "    \"\"\"\n",
    "    Tokenizes the input text into sentences using regular expressions to handle different punctuation.\n",
    "    \"\"\"\n",
    "    sentences = re.split(r'(?<!\\w\\.\\w.)(?<![A-Z][a-z]\\.)(?<=\\.|\\?)\\s', text)\n",
    "    return [sentence.strip() for sentence in sentences if sentence]\n",
    "\n",
    "def match_sentences(text1, text2, threshold=0.65):\n",
    "    \"\"\"\n",
    "    Matches sentences from text1 to text2 based on cosine similarity of their embeddings.\n",
    "    \"\"\"\n",
    "    sentences1 = preprocess_text(text1)\n",
    "    sentences2 = preprocess_text(text2)\n",
    "    \n",
    "    logger.info(\"Sentences from text1: %s\", sentences1)\n",
    "    logger.info(\"Sentences from text2: %s\", sentences2)\n",
    "    \n",
    "    embeddings1 = model.encode(sentences1)\n",
    "    embeddings2 = model.encode(sentences2)\n",
    "    \n",
    "    similarity_matrix = cosine_similarity(embeddings1, embeddings2)\n",
    "    logger.info(\"Similarity matrix: %s\", similarity_matrix)\n",
    "    \n",
    "    matches = []\n",
    "    unmatched1 = set(range(len(sentences1)))\n",
    "    unmatched2 = set(range(len(sentences2)))\n",
    "    \n",
    "    for i, row in enumerate(similarity_matrix):\n",
    "        for j, similarity in enumerate(row):\n",
    "            if similarity > threshold:\n",
    "                matches.append((sentences1[i], sentences2[j], similarity))\n",
    "                unmatched1.discard(i)\n",
    "                unmatched2.discard(j)\n",
    "    \n",
    "    unmatched_sentences1 = [sentences1[i] for i in unmatched1]\n",
    "    unmatched_sentences2 = [sentences2[i] for i in unmatched2]\n",
    "    \n",
    "    return matches, unmatched_sentences1, unmatched_sentences2\n"
   ]
  },
  {
   "cell_type": "code",
   "execution_count": 10,
   "id": "4278d072-e9db-492d-9db9-f3548981dcf1",
   "metadata": {},
   "outputs": [
    {
     "name": "stderr",
     "output_type": "stream",
     "text": [
      "INFO:__main__:Sentences from text1: ['As the sun sank below the horizon, casting shadows across Thistledown, a group of adventurers gathered around a flickering campfire.', 'The air was full of the scent of pine and the distant calls of nocturnal animals.', '\"Are you sure this is the right path, Elaria?\" asked Thorne, his hand on the hilt of his sword.', 'He peered out at the darkening forest warily.', '\"The map led us here,\" said Elaria, a slim elf with piercing green eyes.', '\"The ancient runes spoke of a temple hidden beyond the Silverstream.', 'We must trust in the old ways.\"\\n\\nBrakkar, the burly dwarf, sighed and adjusted his axe.', '\"Trusting in old runes and forgotten temples...', 'This had better lead to treasure worth all this trouble.\"\\n\\n\"Not all treasures are made of gold, Brakkar,\" said Lyra, the group\\'s sorceress.', 'Her eyes reflected the light of the fire.', '\"Some secrets are far more valuable.\"\\n\\nThorne smiled.', '\"Secrets or gold...', 'We\\'ll find out soon enough.\"']\n",
      "INFO:__main__:Sentences from text2: ['The sun was just setting, and Thistledown was darkening by degrees.', 'A campfire burned at the center of a small group of adventurers—some humans, some elves, and one dwarf.', 'The air held the scent of pine, and the distant call of nocturnal animals echoed through the forest.', '\"Are you sure this is right?\" Thorne asked Elaria, who was pointing at a trail.', '\"We\\'re supposed to be going toward the Silverstream.\"\\n\\n\"The map we found led us here,\" said Elaria, an elf.', 'Her green eyes glinted with a hint of mischief in the firelight.', '\"It spoke of a temple hidden beyond the river.', 'We\\'ll see if those old runes hold any truth.\"\\n\\n\"Trusting in old runes and forgotten temples?\" Brakkar said, adjusting his axe.', '\"Hope it leads to treasure worth all this trouble.\"\\n\\nLyra smiled at that.', '\"Not all treasures are made of gold.', 'Some secrets are far more valuable.\"']\n"
     ]
    },
    {
     "data": {
      "application/vnd.jupyter.widget-view+json": {
       "model_id": "03a8f2c11a144c93bcaf43800780be0d",
       "version_major": 2,
       "version_minor": 0
      },
      "text/plain": [
       "Batches:   0%|          | 0/1 [00:00<?, ?it/s]"
      ]
     },
     "metadata": {},
     "output_type": "display_data"
    },
    {
     "data": {
      "application/vnd.jupyter.widget-view+json": {
       "model_id": "0615ff41956d479b8ca37cf56babd08b",
       "version_major": 2,
       "version_minor": 0
      },
      "text/plain": [
       "Batches:   0%|          | 0/1 [00:00<?, ?it/s]"
      ]
     },
     "metadata": {},
     "output_type": "display_data"
    },
    {
     "name": "stderr",
     "output_type": "stream",
     "text": [
      "INFO:__main__:Similarity matrix: [[ 0.47573566  0.7700572   0.3480097   0.19624688  0.18512627  0.41992038\n",
      "   0.18079787  0.25153345  0.06565206  0.02754611  0.04963072]\n",
      " [ 0.25398555  0.24631093  0.93369496  0.23228613  0.23945272  0.20347555\n",
      "   0.22440684  0.07104941  0.05313875  0.01877338  0.11995322]\n",
      " [ 0.20076151  0.18589817  0.15572374  0.779638    0.45299086  0.20595007\n",
      "   0.27051488  0.4088133   0.36706015  0.13421255  0.15534338]\n",
      " [ 0.47023493  0.19025743  0.45202413  0.37833774  0.2856888   0.40729955\n",
      "   0.31118834  0.19335356  0.16766196 -0.04441359  0.03878757]\n",
      " [ 0.20362633  0.16230047  0.21887901  0.52519953  0.77917314  0.3359213\n",
      "   0.26744074  0.3013966   0.44968525  0.10715409  0.18383856]\n",
      " [ 0.1723978   0.20987602  0.14959764  0.27120736  0.49368206  0.20101088\n",
      "   0.74463195  0.62669706  0.29655957  0.3660362   0.2812647 ]\n",
      " [ 0.171269    0.18891406  0.11584059  0.2938447   0.25531062  0.2520981\n",
      "   0.16000132  0.6375573   0.2568256   0.15945925  0.19283184]\n",
      " [ 0.10194223  0.18284722  0.08549935  0.2127407   0.31712443  0.08363487\n",
      "   0.5156315   0.7842094   0.28408116  0.3716553   0.29314578]\n",
      " [-0.01055841  0.13238692  0.0745943   0.23904198  0.29896414  0.10665102\n",
      "   0.20840377  0.38283226  0.6476541   0.6532759   0.5172738 ]\n",
      " [ 0.3365398   0.3677771   0.41656893  0.25930703  0.20689508  0.70770913\n",
      "   0.21520951  0.13049059  0.25092918  0.06246135  0.04218154]\n",
      " [ 0.09680988  0.03463672  0.12666175  0.4987617   0.2783081   0.26785576\n",
      "   0.19948716  0.32563952  0.5288314   0.31277856  0.72227603]\n",
      " [-0.00992319  0.03886275  0.0867039   0.17574349  0.17831276  0.16096495\n",
      "   0.22914782  0.2677412   0.27173203  0.5898539   0.61451936]\n",
      " [ 0.10773318 -0.06678262  0.17066148  0.30407795  0.35785776  0.04688611\n",
      "   0.12794231  0.22423184  0.2320264   0.16985528  0.3539843 ]]\n",
      "INFO:__main__:Matched sentences:\n",
      "INFO:__main__:Text1: As the sun sank below the horizon, casting shadows across Thistledown, a group of adventurers gathered around a flickering campfire.\n",
      "Text2: A campfire burned at the center of a small group of adventurers—some humans, some elves, and one dwarf.\n",
      "Similarity: 0.77\n",
      "INFO:__main__:Text1: The air was full of the scent of pine and the distant calls of nocturnal animals.\n",
      "Text2: The air held the scent of pine, and the distant call of nocturnal animals echoed through the forest.\n",
      "Similarity: 0.93\n",
      "INFO:__main__:Text1: \"Are you sure this is the right path, Elaria?\" asked Thorne, his hand on the hilt of his sword.\n",
      "Text2: \"Are you sure this is right?\" Thorne asked Elaria, who was pointing at a trail.\n",
      "Similarity: 0.78\n",
      "INFO:__main__:Text1: \"The map led us here,\" said Elaria, a slim elf with piercing green eyes.\n",
      "Text2: \"We're supposed to be going toward the Silverstream.\"\n",
      "\n",
      "\"The map we found led us here,\" said Elaria, an elf.\n",
      "Similarity: 0.78\n",
      "INFO:__main__:Text1: \"The ancient runes spoke of a temple hidden beyond the Silverstream.\n",
      "Text2: \"It spoke of a temple hidden beyond the river.\n",
      "Similarity: 0.74\n",
      "INFO:__main__:Text1: \"Trusting in old runes and forgotten temples...\n",
      "Text2: We'll see if those old runes hold any truth.\"\n",
      "\n",
      "\"Trusting in old runes and forgotten temples?\" Brakkar said, adjusting his axe.\n",
      "Similarity: 0.78\n",
      "INFO:__main__:Text1: This had better lead to treasure worth all this trouble.\"\n",
      "\n",
      "\"Not all treasures are made of gold, Brakkar,\" said Lyra, the group's sorceress.\n",
      "Text2: \"Not all treasures are made of gold.\n",
      "Similarity: 0.65\n",
      "INFO:__main__:Text1: Her eyes reflected the light of the fire.\n",
      "Text2: Her green eyes glinted with a hint of mischief in the firelight.\n",
      "Similarity: 0.71\n",
      "INFO:__main__:Text1: \"Some secrets are far more valuable.\"\n",
      "\n",
      "Thorne smiled.\n",
      "Text2: Some secrets are far more valuable.\"\n",
      "Similarity: 0.72\n",
      "INFO:__main__:Unmatched sentences in text1: ['He peered out at the darkening forest warily.', 'We must trust in the old ways.\"\\n\\nBrakkar, the burly dwarf, sighed and adjusted his axe.', '\"Secrets or gold...', 'We\\'ll find out soon enough.\"']\n",
      "INFO:__main__:Unmatched sentences in text2: ['The sun was just setting, and Thistledown was darkening by degrees.', '\"Hope it leads to treasure worth all this trouble.\"\\n\\nLyra smiled at that.']\n"
     ]
    }
   ],
   "source": [
    "text1 = (\"As the sun sank below the horizon, casting shadows across Thistledown, \"\n",
    "         \"a group of adventurers gathered around a flickering campfire. The air was full of the scent of pine and the distant calls of nocturnal animals.\\n\\n\"\n",
    "         \"\\\"Are you sure this is the right path, Elaria?\\\" asked Thorne, his hand on the hilt of his sword. He peered out at the darkening forest warily.\\n\\n\"\n",
    "         \"\\\"The map led us here,\\\" said Elaria, a slim elf with piercing green eyes. \\\"The ancient runes spoke of a temple hidden beyond the Silverstream. We must trust in the old ways.\\\"\\n\\n\"\n",
    "         \"Brakkar, the burly dwarf, sighed and adjusted his axe. \\\"Trusting in old runes and forgotten temples... This had better lead to treasure worth all this trouble.\\\"\\n\\n\"\n",
    "         \"\\\"Not all treasures are made of gold, Brakkar,\\\" said Lyra, the group's sorceress. Her eyes reflected the light of the fire. \\\"Some secrets are far more valuable.\\\"\\n\\n\"\n",
    "         \"Thorne smiled. \\\"Secrets or gold... We'll find out soon enough.\\\"\")\n",
    "\n",
    "text2 = (\"The sun was just setting, and Thistledown was darkening by degrees. A campfire burned at the center of a small group of adventurers—some humans, some elves, and one dwarf. The air held the scent of pine, and the distant call of nocturnal animals echoed through the forest.\\n\\n\"\n",
    "         \"\\\"Are you sure this is right?\\\" Thorne asked Elaria, who was pointing at a trail. \\\"We're supposed to be going toward the Silverstream.\\\"\\n\\n\"\n",
    "         \"\\\"The map we found led us here,\\\" said Elaria, an elf. Her green eyes glinted with a hint of mischief in the firelight. \\\"It spoke of a temple hidden beyond the river. We'll see if those old runes hold any truth.\\\"\\n\\n\"\n",
    "         \"\\\"Trusting in old runes and forgotten temples?\\\" Brakkar said, adjusting his axe. \\\"Hope it leads to treasure worth all this trouble.\\\"\\n\\n\"\n",
    "         \"Lyra smiled at that. \\\"Not all treasures are made of gold. Some secrets are far more valuable.\\\"\")\n",
    "\n",
    "matches, unmatched1, unmatched2 = match_sentences(text1, text2)\n",
    "\n",
    "logger.info(\"Matched sentences:\")\n",
    "for match in matches:\n",
    "    logger.info(\"Text1: %s\\nText2: %s\\nSimilarity: %.2f\", match[0], match[1], match[2])\n",
    "\n",
    "logger.info(\"Unmatched sentences in text1: %s\", unmatched1)\n",
    "logger.info(\"Unmatched sentences in text2: %s\", unmatched2)\n"
   ]
  }
 ],
 "metadata": {
  "kernelspec": {
   "display_name": "Python 3 (ipykernel)",
   "language": "python",
   "name": "python3"
  },
  "language_info": {
   "codemirror_mode": {
    "name": "ipython",
    "version": 3
   },
   "file_extension": ".py",
   "mimetype": "text/x-python",
   "name": "python",
   "nbconvert_exporter": "python",
   "pygments_lexer": "ipython3",
   "version": "3.12.2"
  }
 },
 "nbformat": 4,
 "nbformat_minor": 5
}
