{
 "cells": [
  {
   "cell_type": "code",
   "execution_count": 27,
   "id": "87275f89",
   "metadata": {},
   "outputs": [],
   "source": [
    "import numpy as np\n",
    "import pandas as pd\n",
    "import plotly.graph_objects as go\n",
    "import plotly.express as px\n",
    "import random"
   ]
  },
  {
   "cell_type": "code",
   "execution_count": 28,
   "id": "2acc9db1",
   "metadata": {},
   "outputs": [],
   "source": [
    "person1 = np.array([20, 68])\n",
    "person2 = np.array([25, 80])\n",
    "person3 = np.array([30, 90])\n",
    "person4 = np.array([25, 80])"
   ]
  },
  {
   "cell_type": "code",
   "execution_count": 29,
   "id": "2acc9db2",
   "metadata": {},
   "outputs": [],
   "source": [
    "df = pd.DataFrame({\n",
    "    'Person': ['Person 1', 'Person 2', 'Person 3', 'Person 4'],\n",
    "    'Age': [person1[0], person2[0], person3[0], person4[0]],\n",
    "    'Weight': [person1[1], person2[1], person3[1], person4[1]]\n",
    "})\n",
    "\n",
    "# Add small random noise to Age and Weight\n",
    "df['Age'] = df['Age'] + pd.Series([random.uniform(-0.6, 0.6) for _ in range(len(df))])\n",
    "df['Weight'] = df['Weight'] + pd.Series([random.uniform(-0.6, 0.6) for _ in range(len(df))])\n"
   ]
  },
  {
   "cell_type": "code",
   "execution_count": 30,
   "id": "2acc9db3",
   "metadata": {},
   "outputs": [],
   "source": [
    "dot_products = []\n",
    "for i in range(len(df)):\n",
    "    for j in range(i+1, len(df)):\n",
    "        dot_product = np.dot(df.loc[i, ['Age', 'Weight']], df.loc[j, ['Age', 'Weight']])\n",
    "        dot_products.append((df.loc[i, 'Person'], df.loc[j, 'Person'], round(dot_product, 2)))  # round the dot product value\n"
   ]
  },
  {
   "cell_type": "code",
   "execution_count": 31,
   "id": "2acc9db4",
   "metadata": {},
   "outputs": [
    {
     "data": {
      "application/vnd.plotly.v1+json": {
       "config": {
        "plotlyServerURL": "https://plot.ly"
       },
       "data": [
        {
         "hovertemplate": "Person=Person 1<br>Age=%{x}<br>Weight=%{y}<extra></extra>",
         "legendgroup": "Person 1",
         "marker": {
          "color": "#636efa",
          "symbol": "circle"
         },
         "mode": "markers",
         "name": "Person 1",
         "orientation": "v",
         "showlegend": true,
         "type": "scatter",
         "x": [
          19.533140650579195
         ],
         "xaxis": "x",
         "y": [
          68.04971527417624
         ],
         "yaxis": "y"
        },
        {
         "hovertemplate": "Person=Person 2<br>Age=%{x}<br>Weight=%{y}<extra></extra>",
         "legendgroup": "Person 2",
         "marker": {
          "color": "#EF553B",
          "symbol": "circle"
         },
         "mode": "markers",
         "name": "Person 2",
         "orientation": "v",
         "showlegend": true,
         "type": "scatter",
         "x": [
          24.95024280188819
         ],
         "xaxis": "x",
         "y": [
          80.57215613520017
         ],
         "yaxis": "y"
        },
        {
         "hovertemplate": "Person=Person 3<br>Age=%{x}<br>Weight=%{y}<extra></extra>",
         "legendgroup": "Person 3",
         "marker": {
          "color": "#00cc96",
          "symbol": "circle"
         },
         "mode": "markers",
         "name": "Person 3",
         "orientation": "v",
         "showlegend": true,
         "type": "scatter",
         "x": [
          29.458608510069162
         ],
         "xaxis": "x",
         "y": [
          90.23297402128135
         ],
         "yaxis": "y"
        },
        {
         "hovertemplate": "Person=Person 4<br>Age=%{x}<br>Weight=%{y}<extra></extra>",
         "legendgroup": "Person 4",
         "marker": {
          "color": "#ab63fa",
          "symbol": "circle"
         },
         "mode": "markers",
         "name": "Person 4",
         "orientation": "v",
         "showlegend": true,
         "type": "scatter",
         "x": [
          24.43336921471092
         ],
         "xaxis": "x",
         "y": [
          79.63488269849648
         ],
         "yaxis": "y"
        },
        {
         "line": {
          "width": 2
         },
         "mode": "lines",
         "name": "Person 1",
         "type": "scatter",
         "x": [
          0,
          19.533140650579195
         ],
         "y": [
          0,
          68.04971527417624
         ]
        },
        {
         "line": {
          "width": 2
         },
         "mode": "lines",
         "name": "Person 2",
         "type": "scatter",
         "x": [
          0,
          24.95024280188819
         ],
         "y": [
          0,
          80.57215613520017
         ]
        },
        {
         "line": {
          "width": 2
         },
         "mode": "lines",
         "name": "Person 3",
         "type": "scatter",
         "x": [
          0,
          29.458608510069162
         ],
         "y": [
          0,
          90.23297402128135
         ]
        },
        {
         "line": {
          "width": 2
         },
         "mode": "lines",
         "name": "Person 4",
         "type": "scatter",
         "x": [
          0,
          24.43336921471092
         ],
         "y": [
          0,
          79.63488269849648
         ]
        }
       ],
       "layout": {
        "annotations": [
         {
          "align": "right",
          "bgcolor": "white",
          "bordercolor": "black",
          "borderpad": 4,
          "borderwidth": 1,
          "font": {
           "size": 12
          },
          "opacity": 0.8,
          "showarrow": false,
          "text": "Dot product (Person 1, Person 2): 5970.27",
          "x": 29.458608510069162,
          "xref": "x",
          "y": 38.049715274176236,
          "yref": "y"
         },
         {
          "align": "right",
          "bgcolor": "white",
          "bordercolor": "black",
          "borderpad": 4,
          "borderwidth": 1,
          "font": {
           "size": 12
          },
          "opacity": 0.8,
          "showarrow": false,
          "text": "Dot product (Person 1, Person 3): 6715.75",
          "x": 29.458608510069162,
          "xref": "x",
          "y": 28.049715274176236,
          "yref": "y"
         },
         {
          "align": "right",
          "bgcolor": "white",
          "bordercolor": "black",
          "borderpad": 4,
          "borderwidth": 1,
          "font": {
           "size": 12
          },
          "opacity": 0.8,
          "showarrow": false,
          "text": "Dot product (Person 1, Person 4): 5896.39",
          "x": 29.458608510069162,
          "xref": "x",
          "y": 18.049715274176236,
          "yref": "y"
         },
         {
          "align": "right",
          "bgcolor": "white",
          "bordercolor": "black",
          "borderpad": 4,
          "borderwidth": 1,
          "font": {
           "size": 12
          },
          "opacity": 0.8,
          "showarrow": false,
          "text": "Dot product (Person 2, Person 3): 8005.26",
          "x": 29.458608510069162,
          "xref": "x",
          "y": 8.049715274176236,
          "yref": "y"
         },
         {
          "align": "right",
          "bgcolor": "white",
          "bordercolor": "black",
          "borderpad": 4,
          "borderwidth": 1,
          "font": {
           "size": 12
          },
          "opacity": 0.8,
          "showarrow": false,
          "text": "Dot product (Person 2, Person 4): 7025.97",
          "x": 29.458608510069162,
          "xref": "x",
          "y": -1.9502847258237637,
          "yref": "y"
         },
         {
          "align": "right",
          "bgcolor": "white",
          "bordercolor": "black",
          "borderpad": 4,
          "borderwidth": 1,
          "font": {
           "size": 12
          },
          "opacity": 0.8,
          "showarrow": false,
          "text": "Dot product (Person 3, Person 4): 7905.47",
          "x": 29.458608510069162,
          "xref": "x",
          "y": -11.950284725823764,
          "yref": "y"
         }
        ],
        "legend": {
         "title": {
          "text": "Person"
         },
         "tracegroupgap": 0
        },
        "template": {
         "data": {
          "bar": [
           {
            "error_x": {
             "color": "#2a3f5f"
            },
            "error_y": {
             "color": "#2a3f5f"
            },
            "marker": {
             "line": {
              "color": "#E5ECF6",
              "width": 0.5
             },
             "pattern": {
              "fillmode": "overlay",
              "size": 10,
              "solidity": 0.2
             }
            },
            "type": "bar"
           }
          ],
          "barpolar": [
           {
            "marker": {
             "line": {
              "color": "#E5ECF6",
              "width": 0.5
             },
             "pattern": {
              "fillmode": "overlay",
              "size": 10,
              "solidity": 0.2
             }
            },
            "type": "barpolar"
           }
          ],
          "carpet": [
           {
            "aaxis": {
             "endlinecolor": "#2a3f5f",
             "gridcolor": "white",
             "linecolor": "white",
             "minorgridcolor": "white",
             "startlinecolor": "#2a3f5f"
            },
            "baxis": {
             "endlinecolor": "#2a3f5f",
             "gridcolor": "white",
             "linecolor": "white",
             "minorgridcolor": "white",
             "startlinecolor": "#2a3f5f"
            },
            "type": "carpet"
           }
          ],
          "choropleth": [
           {
            "colorbar": {
             "outlinewidth": 0,
             "ticks": ""
            },
            "type": "choropleth"
           }
          ],
          "contour": [
           {
            "colorbar": {
             "outlinewidth": 0,
             "ticks": ""
            },
            "colorscale": [
             [
              0,
              "#0d0887"
             ],
             [
              0.1111111111111111,
              "#46039f"
             ],
             [
              0.2222222222222222,
              "#7201a8"
             ],
             [
              0.3333333333333333,
              "#9c179e"
             ],
             [
              0.4444444444444444,
              "#bd3786"
             ],
             [
              0.5555555555555556,
              "#d8576b"
             ],
             [
              0.6666666666666666,
              "#ed7953"
             ],
             [
              0.7777777777777778,
              "#fb9f3a"
             ],
             [
              0.8888888888888888,
              "#fdca26"
             ],
             [
              1,
              "#f0f921"
             ]
            ],
            "type": "contour"
           }
          ],
          "contourcarpet": [
           {
            "colorbar": {
             "outlinewidth": 0,
             "ticks": ""
            },
            "type": "contourcarpet"
           }
          ],
          "heatmap": [
           {
            "colorbar": {
             "outlinewidth": 0,
             "ticks": ""
            },
            "colorscale": [
             [
              0,
              "#0d0887"
             ],
             [
              0.1111111111111111,
              "#46039f"
             ],
             [
              0.2222222222222222,
              "#7201a8"
             ],
             [
              0.3333333333333333,
              "#9c179e"
             ],
             [
              0.4444444444444444,
              "#bd3786"
             ],
             [
              0.5555555555555556,
              "#d8576b"
             ],
             [
              0.6666666666666666,
              "#ed7953"
             ],
             [
              0.7777777777777778,
              "#fb9f3a"
             ],
             [
              0.8888888888888888,
              "#fdca26"
             ],
             [
              1,
              "#f0f921"
             ]
            ],
            "type": "heatmap"
           }
          ],
          "heatmapgl": [
           {
            "colorbar": {
             "outlinewidth": 0,
             "ticks": ""
            },
            "colorscale": [
             [
              0,
              "#0d0887"
             ],
             [
              0.1111111111111111,
              "#46039f"
             ],
             [
              0.2222222222222222,
              "#7201a8"
             ],
             [
              0.3333333333333333,
              "#9c179e"
             ],
             [
              0.4444444444444444,
              "#bd3786"
             ],
             [
              0.5555555555555556,
              "#d8576b"
             ],
             [
              0.6666666666666666,
              "#ed7953"
             ],
             [
              0.7777777777777778,
              "#fb9f3a"
             ],
             [
              0.8888888888888888,
              "#fdca26"
             ],
             [
              1,
              "#f0f921"
             ]
            ],
            "type": "heatmapgl"
           }
          ],
          "histogram": [
           {
            "marker": {
             "pattern": {
              "fillmode": "overlay",
              "size": 10,
              "solidity": 0.2
             }
            },
            "type": "histogram"
           }
          ],
          "histogram2d": [
           {
            "colorbar": {
             "outlinewidth": 0,
             "ticks": ""
            },
            "colorscale": [
             [
              0,
              "#0d0887"
             ],
             [
              0.1111111111111111,
              "#46039f"
             ],
             [
              0.2222222222222222,
              "#7201a8"
             ],
             [
              0.3333333333333333,
              "#9c179e"
             ],
             [
              0.4444444444444444,
              "#bd3786"
             ],
             [
              0.5555555555555556,
              "#d8576b"
             ],
             [
              0.6666666666666666,
              "#ed7953"
             ],
             [
              0.7777777777777778,
              "#fb9f3a"
             ],
             [
              0.8888888888888888,
              "#fdca26"
             ],
             [
              1,
              "#f0f921"
             ]
            ],
            "type": "histogram2d"
           }
          ],
          "histogram2dcontour": [
           {
            "colorbar": {
             "outlinewidth": 0,
             "ticks": ""
            },
            "colorscale": [
             [
              0,
              "#0d0887"
             ],
             [
              0.1111111111111111,
              "#46039f"
             ],
             [
              0.2222222222222222,
              "#7201a8"
             ],
             [
              0.3333333333333333,
              "#9c179e"
             ],
             [
              0.4444444444444444,
              "#bd3786"
             ],
             [
              0.5555555555555556,
              "#d8576b"
             ],
             [
              0.6666666666666666,
              "#ed7953"
             ],
             [
              0.7777777777777778,
              "#fb9f3a"
             ],
             [
              0.8888888888888888,
              "#fdca26"
             ],
             [
              1,
              "#f0f921"
             ]
            ],
            "type": "histogram2dcontour"
           }
          ],
          "mesh3d": [
           {
            "colorbar": {
             "outlinewidth": 0,
             "ticks": ""
            },
            "type": "mesh3d"
           }
          ],
          "parcoords": [
           {
            "line": {
             "colorbar": {
              "outlinewidth": 0,
              "ticks": ""
             }
            },
            "type": "parcoords"
           }
          ],
          "pie": [
           {
            "automargin": true,
            "type": "pie"
           }
          ],
          "scatter": [
           {
            "fillpattern": {
             "fillmode": "overlay",
             "size": 10,
             "solidity": 0.2
            },
            "type": "scatter"
           }
          ],
          "scatter3d": [
           {
            "line": {
             "colorbar": {
              "outlinewidth": 0,
              "ticks": ""
             }
            },
            "marker": {
             "colorbar": {
              "outlinewidth": 0,
              "ticks": ""
             }
            },
            "type": "scatter3d"
           }
          ],
          "scattercarpet": [
           {
            "marker": {
             "colorbar": {
              "outlinewidth": 0,
              "ticks": ""
             }
            },
            "type": "scattercarpet"
           }
          ],
          "scattergeo": [
           {
            "marker": {
             "colorbar": {
              "outlinewidth": 0,
              "ticks": ""
             }
            },
            "type": "scattergeo"
           }
          ],
          "scattergl": [
           {
            "marker": {
             "colorbar": {
              "outlinewidth": 0,
              "ticks": ""
             }
            },
            "type": "scattergl"
           }
          ],
          "scattermapbox": [
           {
            "marker": {
             "colorbar": {
              "outlinewidth": 0,
              "ticks": ""
             }
            },
            "type": "scattermapbox"
           }
          ],
          "scatterpolar": [
           {
            "marker": {
             "colorbar": {
              "outlinewidth": 0,
              "ticks": ""
             }
            },
            "type": "scatterpolar"
           }
          ],
          "scatterpolargl": [
           {
            "marker": {
             "colorbar": {
              "outlinewidth": 0,
              "ticks": ""
             }
            },
            "type": "scatterpolargl"
           }
          ],
          "scatterternary": [
           {
            "marker": {
             "colorbar": {
              "outlinewidth": 0,
              "ticks": ""
             }
            },
            "type": "scatterternary"
           }
          ],
          "surface": [
           {
            "colorbar": {
             "outlinewidth": 0,
             "ticks": ""
            },
            "colorscale": [
             [
              0,
              "#0d0887"
             ],
             [
              0.1111111111111111,
              "#46039f"
             ],
             [
              0.2222222222222222,
              "#7201a8"
             ],
             [
              0.3333333333333333,
              "#9c179e"
             ],
             [
              0.4444444444444444,
              "#bd3786"
             ],
             [
              0.5555555555555556,
              "#d8576b"
             ],
             [
              0.6666666666666666,
              "#ed7953"
             ],
             [
              0.7777777777777778,
              "#fb9f3a"
             ],
             [
              0.8888888888888888,
              "#fdca26"
             ],
             [
              1,
              "#f0f921"
             ]
            ],
            "type": "surface"
           }
          ],
          "table": [
           {
            "cells": {
             "fill": {
              "color": "#EBF0F8"
             },
             "line": {
              "color": "white"
             }
            },
            "header": {
             "fill": {
              "color": "#C8D4E3"
             },
             "line": {
              "color": "white"
             }
            },
            "type": "table"
           }
          ]
         },
         "layout": {
          "annotationdefaults": {
           "arrowcolor": "#2a3f5f",
           "arrowhead": 0,
           "arrowwidth": 1
          },
          "autotypenumbers": "strict",
          "coloraxis": {
           "colorbar": {
            "outlinewidth": 0,
            "ticks": ""
           }
          },
          "colorscale": {
           "diverging": [
            [
             0,
             "#8e0152"
            ],
            [
             0.1,
             "#c51b7d"
            ],
            [
             0.2,
             "#de77ae"
            ],
            [
             0.3,
             "#f1b6da"
            ],
            [
             0.4,
             "#fde0ef"
            ],
            [
             0.5,
             "#f7f7f7"
            ],
            [
             0.6,
             "#e6f5d0"
            ],
            [
             0.7,
             "#b8e186"
            ],
            [
             0.8,
             "#7fbc41"
            ],
            [
             0.9,
             "#4d9221"
            ],
            [
             1,
             "#276419"
            ]
           ],
           "sequential": [
            [
             0,
             "#0d0887"
            ],
            [
             0.1111111111111111,
             "#46039f"
            ],
            [
             0.2222222222222222,
             "#7201a8"
            ],
            [
             0.3333333333333333,
             "#9c179e"
            ],
            [
             0.4444444444444444,
             "#bd3786"
            ],
            [
             0.5555555555555556,
             "#d8576b"
            ],
            [
             0.6666666666666666,
             "#ed7953"
            ],
            [
             0.7777777777777778,
             "#fb9f3a"
            ],
            [
             0.8888888888888888,
             "#fdca26"
            ],
            [
             1,
             "#f0f921"
            ]
           ],
           "sequentialminus": [
            [
             0,
             "#0d0887"
            ],
            [
             0.1111111111111111,
             "#46039f"
            ],
            [
             0.2222222222222222,
             "#7201a8"
            ],
            [
             0.3333333333333333,
             "#9c179e"
            ],
            [
             0.4444444444444444,
             "#bd3786"
            ],
            [
             0.5555555555555556,
             "#d8576b"
            ],
            [
             0.6666666666666666,
             "#ed7953"
            ],
            [
             0.7777777777777778,
             "#fb9f3a"
            ],
            [
             0.8888888888888888,
             "#fdca26"
            ],
            [
             1,
             "#f0f921"
            ]
           ]
          },
          "colorway": [
           "#636efa",
           "#EF553B",
           "#00cc96",
           "#ab63fa",
           "#FFA15A",
           "#19d3f3",
           "#FF6692",
           "#B6E880",
           "#FF97FF",
           "#FECB52"
          ],
          "font": {
           "color": "#2a3f5f"
          },
          "geo": {
           "bgcolor": "white",
           "lakecolor": "white",
           "landcolor": "#E5ECF6",
           "showlakes": true,
           "showland": true,
           "subunitcolor": "white"
          },
          "hoverlabel": {
           "align": "left"
          },
          "hovermode": "closest",
          "mapbox": {
           "style": "light"
          },
          "paper_bgcolor": "white",
          "plot_bgcolor": "#E5ECF6",
          "polar": {
           "angularaxis": {
            "gridcolor": "white",
            "linecolor": "white",
            "ticks": ""
           },
           "bgcolor": "#E5ECF6",
           "radialaxis": {
            "gridcolor": "white",
            "linecolor": "white",
            "ticks": ""
           }
          },
          "scene": {
           "xaxis": {
            "backgroundcolor": "#E5ECF6",
            "gridcolor": "white",
            "gridwidth": 2,
            "linecolor": "white",
            "showbackground": true,
            "ticks": "",
            "zerolinecolor": "white"
           },
           "yaxis": {
            "backgroundcolor": "#E5ECF6",
            "gridcolor": "white",
            "gridwidth": 2,
            "linecolor": "white",
            "showbackground": true,
            "ticks": "",
            "zerolinecolor": "white"
           },
           "zaxis": {
            "backgroundcolor": "#E5ECF6",
            "gridcolor": "white",
            "gridwidth": 2,
            "linecolor": "white",
            "showbackground": true,
            "ticks": "",
            "zerolinecolor": "white"
           }
          },
          "shapedefaults": {
           "line": {
            "color": "#2a3f5f"
           }
          },
          "ternary": {
           "aaxis": {
            "gridcolor": "white",
            "linecolor": "white",
            "ticks": ""
           },
           "baxis": {
            "gridcolor": "white",
            "linecolor": "white",
            "ticks": ""
           },
           "bgcolor": "#E5ECF6",
           "caxis": {
            "gridcolor": "white",
            "linecolor": "white",
            "ticks": ""
           }
          },
          "title": {
           "x": 0.05
          },
          "xaxis": {
           "automargin": true,
           "gridcolor": "white",
           "linecolor": "white",
           "ticks": "",
           "title": {
            "standoff": 15
           },
           "zerolinecolor": "white",
           "zerolinewidth": 2
          },
          "yaxis": {
           "automargin": true,
           "gridcolor": "white",
           "linecolor": "white",
           "ticks": "",
           "title": {
            "standoff": 15
           },
           "zerolinecolor": "white",
           "zerolinewidth": 2
          }
         }
        },
        "title": {
         "text": "Visualizing people as vectors"
        },
        "xaxis": {
         "anchor": "y",
         "domain": [
          0,
          1
         ],
         "title": {
          "text": "Age"
         }
        },
        "yaxis": {
         "anchor": "x",
         "domain": [
          0,
          1
         ],
         "title": {
          "text": "Weight"
         }
        }
       }
      },
      "text/html": [
       "<div>                            <div id=\"e4d98480-d600-430c-8dfe-c19328d82887\" class=\"plotly-graph-div\" style=\"height:525px; width:100%;\"></div>            <script type=\"text/javascript\">                require([\"plotly\"], function(Plotly) {                    window.PLOTLYENV=window.PLOTLYENV || {};                                    if (document.getElementById(\"e4d98480-d600-430c-8dfe-c19328d82887\")) {                    Plotly.newPlot(                        \"e4d98480-d600-430c-8dfe-c19328d82887\",                        [{\"hovertemplate\":\"Person=Person 1<br>Age=%{x}<br>Weight=%{y}<extra></extra>\",\"legendgroup\":\"Person 1\",\"marker\":{\"color\":\"#636efa\",\"symbol\":\"circle\"},\"mode\":\"markers\",\"name\":\"Person 1\",\"orientation\":\"v\",\"showlegend\":true,\"x\":[19.533140650579195],\"xaxis\":\"x\",\"y\":[68.04971527417624],\"yaxis\":\"y\",\"type\":\"scatter\"},{\"hovertemplate\":\"Person=Person 2<br>Age=%{x}<br>Weight=%{y}<extra></extra>\",\"legendgroup\":\"Person 2\",\"marker\":{\"color\":\"#EF553B\",\"symbol\":\"circle\"},\"mode\":\"markers\",\"name\":\"Person 2\",\"orientation\":\"v\",\"showlegend\":true,\"x\":[24.95024280188819],\"xaxis\":\"x\",\"y\":[80.57215613520017],\"yaxis\":\"y\",\"type\":\"scatter\"},{\"hovertemplate\":\"Person=Person 3<br>Age=%{x}<br>Weight=%{y}<extra></extra>\",\"legendgroup\":\"Person 3\",\"marker\":{\"color\":\"#00cc96\",\"symbol\":\"circle\"},\"mode\":\"markers\",\"name\":\"Person 3\",\"orientation\":\"v\",\"showlegend\":true,\"x\":[29.458608510069162],\"xaxis\":\"x\",\"y\":[90.23297402128135],\"yaxis\":\"y\",\"type\":\"scatter\"},{\"hovertemplate\":\"Person=Person 4<br>Age=%{x}<br>Weight=%{y}<extra></extra>\",\"legendgroup\":\"Person 4\",\"marker\":{\"color\":\"#ab63fa\",\"symbol\":\"circle\"},\"mode\":\"markers\",\"name\":\"Person 4\",\"orientation\":\"v\",\"showlegend\":true,\"x\":[24.43336921471092],\"xaxis\":\"x\",\"y\":[79.63488269849648],\"yaxis\":\"y\",\"type\":\"scatter\"},{\"line\":{\"width\":2},\"mode\":\"lines\",\"name\":\"Person 1\",\"x\":[0,19.533140650579195],\"y\":[0,68.04971527417624],\"type\":\"scatter\"},{\"line\":{\"width\":2},\"mode\":\"lines\",\"name\":\"Person 2\",\"x\":[0,24.95024280188819],\"y\":[0,80.57215613520017],\"type\":\"scatter\"},{\"line\":{\"width\":2},\"mode\":\"lines\",\"name\":\"Person 3\",\"x\":[0,29.458608510069162],\"y\":[0,90.23297402128135],\"type\":\"scatter\"},{\"line\":{\"width\":2},\"mode\":\"lines\",\"name\":\"Person 4\",\"x\":[0,24.43336921471092],\"y\":[0,79.63488269849648],\"type\":\"scatter\"}],                        {\"template\":{\"data\":{\"histogram2dcontour\":[{\"type\":\"histogram2dcontour\",\"colorbar\":{\"outlinewidth\":0,\"ticks\":\"\"},\"colorscale\":[[0.0,\"#0d0887\"],[0.1111111111111111,\"#46039f\"],[0.2222222222222222,\"#7201a8\"],[0.3333333333333333,\"#9c179e\"],[0.4444444444444444,\"#bd3786\"],[0.5555555555555556,\"#d8576b\"],[0.6666666666666666,\"#ed7953\"],[0.7777777777777778,\"#fb9f3a\"],[0.8888888888888888,\"#fdca26\"],[1.0,\"#f0f921\"]]}],\"choropleth\":[{\"type\":\"choropleth\",\"colorbar\":{\"outlinewidth\":0,\"ticks\":\"\"}}],\"histogram2d\":[{\"type\":\"histogram2d\",\"colorbar\":{\"outlinewidth\":0,\"ticks\":\"\"},\"colorscale\":[[0.0,\"#0d0887\"],[0.1111111111111111,\"#46039f\"],[0.2222222222222222,\"#7201a8\"],[0.3333333333333333,\"#9c179e\"],[0.4444444444444444,\"#bd3786\"],[0.5555555555555556,\"#d8576b\"],[0.6666666666666666,\"#ed7953\"],[0.7777777777777778,\"#fb9f3a\"],[0.8888888888888888,\"#fdca26\"],[1.0,\"#f0f921\"]]}],\"heatmap\":[{\"type\":\"heatmap\",\"colorbar\":{\"outlinewidth\":0,\"ticks\":\"\"},\"colorscale\":[[0.0,\"#0d0887\"],[0.1111111111111111,\"#46039f\"],[0.2222222222222222,\"#7201a8\"],[0.3333333333333333,\"#9c179e\"],[0.4444444444444444,\"#bd3786\"],[0.5555555555555556,\"#d8576b\"],[0.6666666666666666,\"#ed7953\"],[0.7777777777777778,\"#fb9f3a\"],[0.8888888888888888,\"#fdca26\"],[1.0,\"#f0f921\"]]}],\"heatmapgl\":[{\"type\":\"heatmapgl\",\"colorbar\":{\"outlinewidth\":0,\"ticks\":\"\"},\"colorscale\":[[0.0,\"#0d0887\"],[0.1111111111111111,\"#46039f\"],[0.2222222222222222,\"#7201a8\"],[0.3333333333333333,\"#9c179e\"],[0.4444444444444444,\"#bd3786\"],[0.5555555555555556,\"#d8576b\"],[0.6666666666666666,\"#ed7953\"],[0.7777777777777778,\"#fb9f3a\"],[0.8888888888888888,\"#fdca26\"],[1.0,\"#f0f921\"]]}],\"contourcarpet\":[{\"type\":\"contourcarpet\",\"colorbar\":{\"outlinewidth\":0,\"ticks\":\"\"}}],\"contour\":[{\"type\":\"contour\",\"colorbar\":{\"outlinewidth\":0,\"ticks\":\"\"},\"colorscale\":[[0.0,\"#0d0887\"],[0.1111111111111111,\"#46039f\"],[0.2222222222222222,\"#7201a8\"],[0.3333333333333333,\"#9c179e\"],[0.4444444444444444,\"#bd3786\"],[0.5555555555555556,\"#d8576b\"],[0.6666666666666666,\"#ed7953\"],[0.7777777777777778,\"#fb9f3a\"],[0.8888888888888888,\"#fdca26\"],[1.0,\"#f0f921\"]]}],\"surface\":[{\"type\":\"surface\",\"colorbar\":{\"outlinewidth\":0,\"ticks\":\"\"},\"colorscale\":[[0.0,\"#0d0887\"],[0.1111111111111111,\"#46039f\"],[0.2222222222222222,\"#7201a8\"],[0.3333333333333333,\"#9c179e\"],[0.4444444444444444,\"#bd3786\"],[0.5555555555555556,\"#d8576b\"],[0.6666666666666666,\"#ed7953\"],[0.7777777777777778,\"#fb9f3a\"],[0.8888888888888888,\"#fdca26\"],[1.0,\"#f0f921\"]]}],\"mesh3d\":[{\"type\":\"mesh3d\",\"colorbar\":{\"outlinewidth\":0,\"ticks\":\"\"}}],\"scatter\":[{\"fillpattern\":{\"fillmode\":\"overlay\",\"size\":10,\"solidity\":0.2},\"type\":\"scatter\"}],\"parcoords\":[{\"type\":\"parcoords\",\"line\":{\"colorbar\":{\"outlinewidth\":0,\"ticks\":\"\"}}}],\"scatterpolargl\":[{\"type\":\"scatterpolargl\",\"marker\":{\"colorbar\":{\"outlinewidth\":0,\"ticks\":\"\"}}}],\"bar\":[{\"error_x\":{\"color\":\"#2a3f5f\"},\"error_y\":{\"color\":\"#2a3f5f\"},\"marker\":{\"line\":{\"color\":\"#E5ECF6\",\"width\":0.5},\"pattern\":{\"fillmode\":\"overlay\",\"size\":10,\"solidity\":0.2}},\"type\":\"bar\"}],\"scattergeo\":[{\"type\":\"scattergeo\",\"marker\":{\"colorbar\":{\"outlinewidth\":0,\"ticks\":\"\"}}}],\"scatterpolar\":[{\"type\":\"scatterpolar\",\"marker\":{\"colorbar\":{\"outlinewidth\":0,\"ticks\":\"\"}}}],\"histogram\":[{\"marker\":{\"pattern\":{\"fillmode\":\"overlay\",\"size\":10,\"solidity\":0.2}},\"type\":\"histogram\"}],\"scattergl\":[{\"type\":\"scattergl\",\"marker\":{\"colorbar\":{\"outlinewidth\":0,\"ticks\":\"\"}}}],\"scatter3d\":[{\"type\":\"scatter3d\",\"line\":{\"colorbar\":{\"outlinewidth\":0,\"ticks\":\"\"}},\"marker\":{\"colorbar\":{\"outlinewidth\":0,\"ticks\":\"\"}}}],\"scattermapbox\":[{\"type\":\"scattermapbox\",\"marker\":{\"colorbar\":{\"outlinewidth\":0,\"ticks\":\"\"}}}],\"scatterternary\":[{\"type\":\"scatterternary\",\"marker\":{\"colorbar\":{\"outlinewidth\":0,\"ticks\":\"\"}}}],\"scattercarpet\":[{\"type\":\"scattercarpet\",\"marker\":{\"colorbar\":{\"outlinewidth\":0,\"ticks\":\"\"}}}],\"carpet\":[{\"aaxis\":{\"endlinecolor\":\"#2a3f5f\",\"gridcolor\":\"white\",\"linecolor\":\"white\",\"minorgridcolor\":\"white\",\"startlinecolor\":\"#2a3f5f\"},\"baxis\":{\"endlinecolor\":\"#2a3f5f\",\"gridcolor\":\"white\",\"linecolor\":\"white\",\"minorgridcolor\":\"white\",\"startlinecolor\":\"#2a3f5f\"},\"type\":\"carpet\"}],\"table\":[{\"cells\":{\"fill\":{\"color\":\"#EBF0F8\"},\"line\":{\"color\":\"white\"}},\"header\":{\"fill\":{\"color\":\"#C8D4E3\"},\"line\":{\"color\":\"white\"}},\"type\":\"table\"}],\"barpolar\":[{\"marker\":{\"line\":{\"color\":\"#E5ECF6\",\"width\":0.5},\"pattern\":{\"fillmode\":\"overlay\",\"size\":10,\"solidity\":0.2}},\"type\":\"barpolar\"}],\"pie\":[{\"automargin\":true,\"type\":\"pie\"}]},\"layout\":{\"autotypenumbers\":\"strict\",\"colorway\":[\"#636efa\",\"#EF553B\",\"#00cc96\",\"#ab63fa\",\"#FFA15A\",\"#19d3f3\",\"#FF6692\",\"#B6E880\",\"#FF97FF\",\"#FECB52\"],\"font\":{\"color\":\"#2a3f5f\"},\"hovermode\":\"closest\",\"hoverlabel\":{\"align\":\"left\"},\"paper_bgcolor\":\"white\",\"plot_bgcolor\":\"#E5ECF6\",\"polar\":{\"bgcolor\":\"#E5ECF6\",\"angularaxis\":{\"gridcolor\":\"white\",\"linecolor\":\"white\",\"ticks\":\"\"},\"radialaxis\":{\"gridcolor\":\"white\",\"linecolor\":\"white\",\"ticks\":\"\"}},\"ternary\":{\"bgcolor\":\"#E5ECF6\",\"aaxis\":{\"gridcolor\":\"white\",\"linecolor\":\"white\",\"ticks\":\"\"},\"baxis\":{\"gridcolor\":\"white\",\"linecolor\":\"white\",\"ticks\":\"\"},\"caxis\":{\"gridcolor\":\"white\",\"linecolor\":\"white\",\"ticks\":\"\"}},\"coloraxis\":{\"colorbar\":{\"outlinewidth\":0,\"ticks\":\"\"}},\"colorscale\":{\"sequential\":[[0.0,\"#0d0887\"],[0.1111111111111111,\"#46039f\"],[0.2222222222222222,\"#7201a8\"],[0.3333333333333333,\"#9c179e\"],[0.4444444444444444,\"#bd3786\"],[0.5555555555555556,\"#d8576b\"],[0.6666666666666666,\"#ed7953\"],[0.7777777777777778,\"#fb9f3a\"],[0.8888888888888888,\"#fdca26\"],[1.0,\"#f0f921\"]],\"sequentialminus\":[[0.0,\"#0d0887\"],[0.1111111111111111,\"#46039f\"],[0.2222222222222222,\"#7201a8\"],[0.3333333333333333,\"#9c179e\"],[0.4444444444444444,\"#bd3786\"],[0.5555555555555556,\"#d8576b\"],[0.6666666666666666,\"#ed7953\"],[0.7777777777777778,\"#fb9f3a\"],[0.8888888888888888,\"#fdca26\"],[1.0,\"#f0f921\"]],\"diverging\":[[0,\"#8e0152\"],[0.1,\"#c51b7d\"],[0.2,\"#de77ae\"],[0.3,\"#f1b6da\"],[0.4,\"#fde0ef\"],[0.5,\"#f7f7f7\"],[0.6,\"#e6f5d0\"],[0.7,\"#b8e186\"],[0.8,\"#7fbc41\"],[0.9,\"#4d9221\"],[1,\"#276419\"]]},\"xaxis\":{\"gridcolor\":\"white\",\"linecolor\":\"white\",\"ticks\":\"\",\"title\":{\"standoff\":15},\"zerolinecolor\":\"white\",\"automargin\":true,\"zerolinewidth\":2},\"yaxis\":{\"gridcolor\":\"white\",\"linecolor\":\"white\",\"ticks\":\"\",\"title\":{\"standoff\":15},\"zerolinecolor\":\"white\",\"automargin\":true,\"zerolinewidth\":2},\"scene\":{\"xaxis\":{\"backgroundcolor\":\"#E5ECF6\",\"gridcolor\":\"white\",\"linecolor\":\"white\",\"showbackground\":true,\"ticks\":\"\",\"zerolinecolor\":\"white\",\"gridwidth\":2},\"yaxis\":{\"backgroundcolor\":\"#E5ECF6\",\"gridcolor\":\"white\",\"linecolor\":\"white\",\"showbackground\":true,\"ticks\":\"\",\"zerolinecolor\":\"white\",\"gridwidth\":2},\"zaxis\":{\"backgroundcolor\":\"#E5ECF6\",\"gridcolor\":\"white\",\"linecolor\":\"white\",\"showbackground\":true,\"ticks\":\"\",\"zerolinecolor\":\"white\",\"gridwidth\":2}},\"shapedefaults\":{\"line\":{\"color\":\"#2a3f5f\"}},\"annotationdefaults\":{\"arrowcolor\":\"#2a3f5f\",\"arrowhead\":0,\"arrowwidth\":1},\"geo\":{\"bgcolor\":\"white\",\"landcolor\":\"#E5ECF6\",\"subunitcolor\":\"white\",\"showland\":true,\"showlakes\":true,\"lakecolor\":\"white\"},\"title\":{\"x\":0.05},\"mapbox\":{\"style\":\"light\"}}},\"xaxis\":{\"anchor\":\"y\",\"domain\":[0.0,1.0],\"title\":{\"text\":\"Age\"}},\"yaxis\":{\"anchor\":\"x\",\"domain\":[0.0,1.0],\"title\":{\"text\":\"Weight\"}},\"legend\":{\"title\":{\"text\":\"Person\"},\"tracegroupgap\":0},\"title\":{\"text\":\"Visualizing people as vectors\"},\"annotations\":[{\"align\":\"right\",\"bgcolor\":\"white\",\"bordercolor\":\"black\",\"borderpad\":4,\"borderwidth\":1,\"font\":{\"size\":12},\"opacity\":0.8,\"showarrow\":false,\"text\":\"Dot product (Person 1, Person 2): 5970.27\",\"x\":29.458608510069162,\"xref\":\"x\",\"y\":38.049715274176236,\"yref\":\"y\"},{\"align\":\"right\",\"bgcolor\":\"white\",\"bordercolor\":\"black\",\"borderpad\":4,\"borderwidth\":1,\"font\":{\"size\":12},\"opacity\":0.8,\"showarrow\":false,\"text\":\"Dot product (Person 1, Person 3): 6715.75\",\"x\":29.458608510069162,\"xref\":\"x\",\"y\":28.049715274176236,\"yref\":\"y\"},{\"align\":\"right\",\"bgcolor\":\"white\",\"bordercolor\":\"black\",\"borderpad\":4,\"borderwidth\":1,\"font\":{\"size\":12},\"opacity\":0.8,\"showarrow\":false,\"text\":\"Dot product (Person 1, Person 4): 5896.39\",\"x\":29.458608510069162,\"xref\":\"x\",\"y\":18.049715274176236,\"yref\":\"y\"},{\"align\":\"right\",\"bgcolor\":\"white\",\"bordercolor\":\"black\",\"borderpad\":4,\"borderwidth\":1,\"font\":{\"size\":12},\"opacity\":0.8,\"showarrow\":false,\"text\":\"Dot product (Person 2, Person 3): 8005.26\",\"x\":29.458608510069162,\"xref\":\"x\",\"y\":8.049715274176236,\"yref\":\"y\"},{\"align\":\"right\",\"bgcolor\":\"white\",\"bordercolor\":\"black\",\"borderpad\":4,\"borderwidth\":1,\"font\":{\"size\":12},\"opacity\":0.8,\"showarrow\":false,\"text\":\"Dot product (Person 2, Person 4): 7025.97\",\"x\":29.458608510069162,\"xref\":\"x\",\"y\":-1.9502847258237637,\"yref\":\"y\"},{\"align\":\"right\",\"bgcolor\":\"white\",\"bordercolor\":\"black\",\"borderpad\":4,\"borderwidth\":1,\"font\":{\"size\":12},\"opacity\":0.8,\"showarrow\":false,\"text\":\"Dot product (Person 3, Person 4): 7905.47\",\"x\":29.458608510069162,\"xref\":\"x\",\"y\":-11.950284725823764,\"yref\":\"y\"}]},                        {\"responsive\": true}                    ).then(function(){\n",
       "                            \n",
       "var gd = document.getElementById('e4d98480-d600-430c-8dfe-c19328d82887');\n",
       "var x = new MutationObserver(function (mutations, observer) {{\n",
       "        var display = window.getComputedStyle(gd).display;\n",
       "        if (!display || display === 'none') {{\n",
       "            console.log([gd, 'removed!']);\n",
       "            Plotly.purge(gd);\n",
       "            observer.disconnect();\n",
       "        }}\n",
       "}});\n",
       "\n",
       "// Listen for the removal of the full notebook cells\n",
       "var notebookContainer = gd.closest('#notebook-container');\n",
       "if (notebookContainer) {{\n",
       "    x.observe(notebookContainer, {childList: true});\n",
       "}}\n",
       "\n",
       "// Listen for the clearing of the current output cell\n",
       "var outputEl = gd.closest('.output');\n",
       "if (outputEl) {{\n",
       "    x.observe(outputEl, {childList: true});\n",
       "}}\n",
       "\n",
       "                        })                };                });            </script>        </div>"
      ]
     },
     "metadata": {},
     "output_type": "display_data"
    }
   ],
   "source": [
    "fig = px.scatter(df, x='Age', y='Weight', color='Person', size_max=60, title='Visualizing people as vectors')\n",
    "\n",
    "# Add lines from the origin to each point\n",
    "for _, row in df.iterrows():\n",
    "    fig.add_trace(go.Scatter(x=[0, row['Age']], y=[0, row['Weight']],\n",
    "                             mode='lines',\n",
    "                             line=dict(width=2),\n",
    "                             name=row['Person']))\n",
    "\n",
    "# Add dot product labels in the lower right corner\n",
    "annotations = []\n",
    "start_position = df['Weight'].min() - 30  # Start the labels 30 units lower\n",
    "for idx, pair in enumerate(dot_products):\n",
    "    label = f'Dot product ({pair[0]}, {pair[1]}): {pair[2]}'\n",
    "    annotations.append(go.layout.Annotation(\n",
    "        x=df['Age'].max(), \n",
    "        y=start_position - idx * 10,  # Subtract idx * 10 to increase space between labels\n",
    "        xref=\"x\",\n",
    "        yref=\"y\",\n",
    "        text=label,\n",
    "        showarrow=False,\n",
    "        font=dict(size=12),\n",
    "        align=\"right\",\n",
    "        bordercolor=\"black\",\n",
    "        borderwidth=1,\n",
    "        borderpad=4,\n",
    "        bgcolor=\"white\",\n",
    "        opacity=0.8\n",
    "    ))\n",
    "\n",
    "fig.update_layout(annotations=annotations)\n",
    "\n",
    "# Show the plot\n",
    "fig.show()"
   ]
  },
  {
   "cell_type": "code",
   "execution_count": null,
   "metadata": {},
   "outputs": [],
   "source": []
  }
 ],
 "metadata": {
  "kernelspec": {
   "display_name": "Python 3 (ipykernel)",
   "language": "python",
   "name": "python3"
  },
  "language_info": {
   "codemirror_mode": {
    "name": "ipython",
    "version": 3
   },
   "file_extension": ".py",
   "mimetype": "text/x-python",
   "name": "python",
   "nbconvert_exporter": "python",
   "pygments_lexer": "ipython3",
   "version": "3.11.3"
  }
 },
 "nbformat": 4,
 "nbformat_minor": 2
}
