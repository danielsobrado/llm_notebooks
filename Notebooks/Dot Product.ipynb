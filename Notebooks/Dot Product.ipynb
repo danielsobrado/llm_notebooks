{
 "cells": [
  {
   "cell_type": "markdown",
   "metadata": {},
   "source": [
    "# Dot Product Notebook\n",
    "\n",
    "This notebook explains and demonstrates the concept of the dot product in simple terms. Each step is described in plain English so you can easily follow along, even if you are new to the topic."
   ]
  },
  {
   "cell_type": "code",
   "execution_count": null,
   "id": "87275f89",
   "metadata": {},
   "outputs": [],
   "source": [
    "import numpy as np\n",
    "import pandas as pd\n",
    "import plotly.graph_objects as go\n",
    "import plotly.express as px\n",
    "import random\n",
    "from manim import *"
   ]
  },
  {
   "cell_type": "markdown",
   "metadata": {},
   "source": [
    "## Step 1: Importing Libraries\n",
    "\n",
    "First, we import the necessary Python libraries. These help us work with numbers, data, and create visualizations."
   ]
  },
  {
   "cell_type": "code",
   "execution_count": null,
   "id": "2acc9db1",
   "metadata": {},
   "outputs": [],
   "source": [
    "person1 = np.array([15, 35])\n",
    "person2 = np.array([25, 80])\n",
    "person3 = np.array([30, 90])\n",
    "person4 = np.array([35, 70])"
   ]
  },
  {
   "cell_type": "markdown",
   "metadata": {},
   "source": [
    "## Step 2: Defining Data\n",
    "\n",
    "We create four example people, each with an age and a weight. These are stored as vectors (lists of numbers)."
   ]
  },
  {
   "cell_type": "code",
   "execution_count": null,
   "id": "2acc9db2",
   "metadata": {},
   "outputs": [],
   "source": [
    "df = pd.DataFrame({\n",
    "    'Person': ['Person 1', 'Person 2', 'Person 3', 'Person 4'],\n",
    "    'Age': [person1[0], person2[0], person3[0], person4[0]],\n",
    "    'Weight': [person1[1], person2[1], person3[1], person4[1]]\n",
    "})"
   ]
  },
  {
   "cell_type": "markdown",
   "metadata": {},
   "source": [
    "## Step 3: Creating a Table\n",
    "\n",
    "We organize the data into a table so it is easier to read and work with."
   ]
  },
  {
   "cell_type": "code",
   "execution_count": null,
   "id": "2acc9db3",
   "metadata": {},
   "outputs": [],
   "source": [
    "dot_products = []\n",
    "for i in range(len(df)):\n",
    "    for j in range(i+1, len(df)):\n",
    "        dot_product = np.dot(df.loc[i, ['Age', 'Weight']], df.loc[j, ['Age', 'Weight']])\n",
    "        dot_products.append((df.loc[i, 'Person'], df.loc[j, 'Person'], round(dot_product, 2)))  # round the dot product value\n"
   ]
  },
  {
   "cell_type": "markdown",
   "metadata": {},
   "source": [
    "## Step 4: Calculating the Dot Product\n",
    "\n",
    "Now, we will calculate the dot product. The dot product is a way to multiply two lists of numbers (vectors) to get a single number. It helps us understand how similar two vectors are."
   ]
  },
  {
   "cell_type": "code",
   "execution_count": 41,
   "id": "2acc9db4",
   "metadata": {},
   "outputs": [
    {
     "data": {
      "application/vnd.plotly.v1+json": {
       "config": {
        "plotlyServerURL": "https://plot.ly"
       },
       "data": [
        {
         "hovertemplate": "Person=Person 1<br>Age=%{x}<br>Weight=%{y}<extra></extra>",
         "legendgroup": "Person 1",
         "marker": {
          "color": "#636efa",
          "symbol": "circle"
         },
         "mode": "markers",
         "name": "Person 1",
         "orientation": "v",
         "showlegend": true,
         "type": "scatter",
         "x": [
          15
         ],
         "xaxis": "x",
         "y": [
          35
         ],
         "yaxis": "y"
        },
        {
         "hovertemplate": "Person=Person 2<br>Age=%{x}<br>Weight=%{y}<extra></extra>",
         "legendgroup": "Person 2",
         "marker": {
          "color": "#EF553B",
          "symbol": "circle"
         },
         "mode": "markers",
         "name": "Person 2",
         "orientation": "v",
         "showlegend": true,
         "type": "scatter",
         "x": [
          25
         ],
         "xaxis": "x",
         "y": [
          80
         ],
         "yaxis": "y"
        },
        {
         "hovertemplate": "Person=Person 3<br>Age=%{x}<br>Weight=%{y}<extra></extra>",
         "legendgroup": "Person 3",
         "marker": {
          "color": "#00cc96",
          "symbol": "circle"
         },
         "mode": "markers",
         "name": "Person 3",
         "orientation": "v",
         "showlegend": true,
         "type": "scatter",
         "x": [
          30
         ],
         "xaxis": "x",
         "y": [
          90
         ],
         "yaxis": "y"
        },
        {
         "hovertemplate": "Person=Person 4<br>Age=%{x}<br>Weight=%{y}<extra></extra>",
         "legendgroup": "Person 4",
         "marker": {
          "color": "#ab63fa",
          "symbol": "circle"
         },
         "mode": "markers",
         "name": "Person 4",
         "orientation": "v",
         "showlegend": true,
         "type": "scatter",
         "x": [
          35
         ],
         "xaxis": "x",
         "y": [
          70
         ],
         "yaxis": "y"
        },
        {
         "line": {
          "width": 2
         },
         "mode": "lines",
         "name": "Person 1",
         "type": "scatter",
         "x": [
          0,
          15
         ],
         "y": [
          0,
          35
         ]
        },
        {
         "line": {
          "width": 2
         },
         "mode": "lines",
         "name": "Person 2",
         "type": "scatter",
         "x": [
          0,
          25
         ],
         "y": [
          0,
          80
         ]
        },
        {
         "line": {
          "width": 2
         },
         "mode": "lines",
         "name": "Person 3",
         "type": "scatter",
         "x": [
          0,
          30
         ],
         "y": [
          0,
          90
         ]
        },
        {
         "line": {
          "width": 2
         },
         "mode": "lines",
         "name": "Person 4",
         "type": "scatter",
         "x": [
          0,
          35
         ],
         "y": [
          0,
          70
         ]
        }
       ],
       "layout": {
        "annotations": [
         {
          "align": "right",
          "bgcolor": "white",
          "bordercolor": "black",
          "borderpad": 4,
          "borderwidth": 1,
          "font": {
           "size": 12
          },
          "opacity": 0.8,
          "showarrow": false,
          "text": "Dot product (Person 1, Person 2): 3175",
          "x": 35,
          "xref": "x",
          "y": 5,
          "yref": "y"
         },
         {
          "align": "right",
          "bgcolor": "white",
          "bordercolor": "black",
          "borderpad": 4,
          "borderwidth": 1,
          "font": {
           "size": 12
          },
          "opacity": 0.8,
          "showarrow": false,
          "text": "Dot product (Person 1, Person 3): 3600",
          "x": 35,
          "xref": "x",
          "y": -5,
          "yref": "y"
         },
         {
          "align": "right",
          "bgcolor": "white",
          "bordercolor": "black",
          "borderpad": 4,
          "borderwidth": 1,
          "font": {
           "size": 12
          },
          "opacity": 0.8,
          "showarrow": false,
          "text": "Dot product (Person 1, Person 4): 2975",
          "x": 35,
          "xref": "x",
          "y": -15,
          "yref": "y"
         },
         {
          "align": "right",
          "bgcolor": "white",
          "bordercolor": "black",
          "borderpad": 4,
          "borderwidth": 1,
          "font": {
           "size": 12
          },
          "opacity": 0.8,
          "showarrow": false,
          "text": "Dot product (Person 2, Person 3): 7950",
          "x": 35,
          "xref": "x",
          "y": -25,
          "yref": "y"
         },
         {
          "align": "right",
          "bgcolor": "white",
          "bordercolor": "black",
          "borderpad": 4,
          "borderwidth": 1,
          "font": {
           "size": 12
          },
          "opacity": 0.8,
          "showarrow": false,
          "text": "Dot product (Person 2, Person 4): 6475",
          "x": 35,
          "xref": "x",
          "y": -35,
          "yref": "y"
         },
         {
          "align": "right",
          "bgcolor": "white",
          "bordercolor": "black",
          "borderpad": 4,
          "borderwidth": 1,
          "font": {
           "size": 12
          },
          "opacity": 0.8,
          "showarrow": false,
          "text": "Dot product (Person 3, Person 4): 7350",
          "x": 35,
          "xref": "x",
          "y": -45,
          "yref": "y"
         }
        ],
        "legend": {
         "title": {
          "text": "Person"
         },
         "tracegroupgap": 0
        },
        "template": {
         "data": {
          "bar": [
           {
            "error_x": {
             "color": "#2a3f5f"
            },
            "error_y": {
             "color": "#2a3f5f"
            },
            "marker": {
             "line": {
              "color": "#E5ECF6",
              "width": 0.5
             },
             "pattern": {
              "fillmode": "overlay",
              "size": 10,
              "solidity": 0.2
             }
            },
            "type": "bar"
           }
          ],
          "barpolar": [
           {
            "marker": {
             "line": {
              "color": "#E5ECF6",
              "width": 0.5
             },
             "pattern": {
              "fillmode": "overlay",
              "size": 10,
              "solidity": 0.2
             }
            },
            "type": "barpolar"
           }
          ],
          "carpet": [
           {
            "aaxis": {
             "endlinecolor": "#2a3f5f",
             "gridcolor": "white",
             "linecolor": "white",
             "minorgridcolor": "white",
             "startlinecolor": "#2a3f5f"
            },
            "baxis": {
             "endlinecolor": "#2a3f5f",
             "gridcolor": "white",
             "linecolor": "white",
             "minorgridcolor": "white",
             "startlinecolor": "#2a3f5f"
            },
            "type": "carpet"
           }
          ],
          "choropleth": [
           {
            "colorbar": {
             "outlinewidth": 0,
             "ticks": ""
            },
            "type": "choropleth"
           }
          ],
          "contour": [
           {
            "colorbar": {
             "outlinewidth": 0,
             "ticks": ""
            },
            "colorscale": [
             [
              0,
              "#0d0887"
             ],
             [
              0.1111111111111111,
              "#46039f"
             ],
             [
              0.2222222222222222,
              "#7201a8"
             ],
             [
              0.3333333333333333,
              "#9c179e"
             ],
             [
              0.4444444444444444,
              "#bd3786"
             ],
             [
              0.5555555555555556,
              "#d8576b"
             ],
             [
              0.6666666666666666,
              "#ed7953"
             ],
             [
              0.7777777777777778,
              "#fb9f3a"
             ],
             [
              0.8888888888888888,
              "#fdca26"
             ],
             [
              1,
              "#f0f921"
             ]
            ],
            "type": "contour"
           }
          ],
          "contourcarpet": [
           {
            "colorbar": {
             "outlinewidth": 0,
             "ticks": ""
            },
            "type": "contourcarpet"
           }
          ],
          "heatmap": [
           {
            "colorbar": {
             "outlinewidth": 0,
             "ticks": ""
            },
            "colorscale": [
             [
              0,
              "#0d0887"
             ],
             [
              0.1111111111111111,
              "#46039f"
             ],
             [
              0.2222222222222222,
              "#7201a8"
             ],
             [
              0.3333333333333333,
              "#9c179e"
             ],
             [
              0.4444444444444444,
              "#bd3786"
             ],
             [
              0.5555555555555556,
              "#d8576b"
             ],
             [
              0.6666666666666666,
              "#ed7953"
             ],
             [
              0.7777777777777778,
              "#fb9f3a"
             ],
             [
              0.8888888888888888,
              "#fdca26"
             ],
             [
              1,
              "#f0f921"
             ]
            ],
            "type": "heatmap"
           }
          ],
          "heatmapgl": [
           {
            "colorbar": {
             "outlinewidth": 0,
             "ticks": ""
            },
            "colorscale": [
             [
              0,
              "#0d0887"
             ],
             [
              0.1111111111111111,
              "#46039f"
             ],
             [
              0.2222222222222222,
              "#7201a8"
             ],
             [
              0.3333333333333333,
              "#9c179e"
             ],
             [
              0.4444444444444444,
              "#bd3786"
             ],
             [
              0.5555555555555556,
              "#d8576b"
             ],
             [
              0.6666666666666666,
              "#ed7953"
             ],
             [
              0.7777777777777778,
              "#fb9f3a"
             ],
             [
              0.8888888888888888,
              "#fdca26"
             ],
             [
              1,
              "#f0f921"
             ]
            ],
            "type": "heatmapgl"
           }
          ],
          "histogram": [
           {
            "marker": {
             "pattern": {
              "fillmode": "overlay",
              "size": 10,
              "solidity": 0.2
             }
            },
            "type": "histogram"
           }
          ],
          "histogram2d": [
           {
            "colorbar": {
             "outlinewidth": 0,
             "ticks": ""
            },
            "colorscale": [
             [
              0,
              "#0d0887"
             ],
             [
              0.1111111111111111,
              "#46039f"
             ],
             [
              0.2222222222222222,
              "#7201a8"
             ],
             [
              0.3333333333333333,
              "#9c179e"
             ],
             [
              0.4444444444444444,
              "#bd3786"
             ],
             [
              0.5555555555555556,
              "#d8576b"
             ],
             [
              0.6666666666666666,
              "#ed7953"
             ],
             [
              0.7777777777777778,
              "#fb9f3a"
             ],
             [
              0.8888888888888888,
              "#fdca26"
             ],
             [
              1,
              "#f0f921"
             ]
            ],
            "type": "histogram2d"
           }
          ],
          "histogram2dcontour": [
           {
            "colorbar": {
             "outlinewidth": 0,
             "ticks": ""
            },
            "colorscale": [
             [
              0,
              "#0d0887"
             ],
             [
              0.1111111111111111,
              "#46039f"
             ],
             [
              0.2222222222222222,
              "#7201a8"
             ],
             [
              0.3333333333333333,
              "#9c179e"
             ],
             [
              0.4444444444444444,
              "#bd3786"
             ],
             [
              0.5555555555555556,
              "#d8576b"
             ],
             [
              0.6666666666666666,
              "#ed7953"
             ],
             [
              0.7777777777777778,
              "#fb9f3a"
             ],
             [
              0.8888888888888888,
              "#fdca26"
             ],
             [
              1,
              "#f0f921"
             ]
            ],
            "type": "histogram2dcontour"
           }
          ],
          "mesh3d": [
           {
            "colorbar": {
             "outlinewidth": 0,
             "ticks": ""
            },
            "type": "mesh3d"
           }
          ],
          "parcoords": [
           {
            "line": {
             "colorbar": {
              "outlinewidth": 0,
              "ticks": ""
             }
            },
            "type": "parcoords"
           }
          ],
          "pie": [
           {
            "automargin": true,
            "type": "pie"
           }
          ],
          "scatter": [
           {
            "fillpattern": {
             "fillmode": "overlay",
             "size": 10,
             "solidity": 0.2
            },
            "type": "scatter"
           }
          ],
          "scatter3d": [
           {
            "line": {
             "colorbar": {
              "outlinewidth": 0,
              "ticks": ""
             }
            },
            "marker": {
             "colorbar": {
              "outlinewidth": 0,
              "ticks": ""
             }
            },
            "type": "scatter3d"
           }
          ],
          "scattercarpet": [
           {
            "marker": {
             "colorbar": {
              "outlinewidth": 0,
              "ticks": ""
             }
            },
            "type": "scattercarpet"
           }
          ],
          "scattergeo": [
           {
            "marker": {
             "colorbar": {
              "outlinewidth": 0,
              "ticks": ""
             }
            },
            "type": "scattergeo"
           }
          ],
          "scattergl": [
           {
            "marker": {
             "colorbar": {
              "outlinewidth": 0,
              "ticks": ""
             }
            },
            "type": "scattergl"
           }
          ],
          "scattermapbox": [
           {
            "marker": {
             "colorbar": {
              "outlinewidth": 0,
              "ticks": ""
             }
            },
            "type": "scattermapbox"
           }
          ],
          "scatterpolar": [
           {
            "marker": {
             "colorbar": {
              "outlinewidth": 0,
              "ticks": ""
             }
            },
            "type": "scatterpolar"
           }
          ],
          "scatterpolargl": [
           {
            "marker": {
             "colorbar": {
              "outlinewidth": 0,
              "ticks": ""
             }
            },
            "type": "scatterpolargl"
           }
          ],
          "scatterternary": [
           {
            "marker": {
             "colorbar": {
              "outlinewidth": 0,
              "ticks": ""
             }
            },
            "type": "scatterternary"
           }
          ],
          "surface": [
           {
            "colorbar": {
             "outlinewidth": 0,
             "ticks": ""
            },
            "colorscale": [
             [
              0,
              "#0d0887"
             ],
             [
              0.1111111111111111,
              "#46039f"
             ],
             [
              0.2222222222222222,
              "#7201a8"
             ],
             [
              0.3333333333333333,
              "#9c179e"
             ],
             [
              0.4444444444444444,
              "#bd3786"
             ],
             [
              0.5555555555555556,
              "#d8576b"
             ],
             [
              0.6666666666666666,
              "#ed7953"
             ],
             [
              0.7777777777777778,
              "#fb9f3a"
             ],
             [
              0.8888888888888888,
              "#fdca26"
             ],
             [
              1,
              "#f0f921"
             ]
            ],
            "type": "surface"
           }
          ],
          "table": [
           {
            "cells": {
             "fill": {
              "color": "#EBF0F8"
             },
             "line": {
              "color": "white"
             }
            },
            "header": {
             "fill": {
              "color": "#C8D4E3"
             },
             "line": {
              "color": "white"
             }
            },
            "type": "table"
           }
          ]
         },
         "layout": {
          "annotationdefaults": {
           "arrowcolor": "#2a3f5f",
           "arrowhead": 0,
           "arrowwidth": 1
          },
          "autotypenumbers": "strict",
          "coloraxis": {
           "colorbar": {
            "outlinewidth": 0,
            "ticks": ""
           }
          },
          "colorscale": {
           "diverging": [
            [
             0,
             "#8e0152"
            ],
            [
             0.1,
             "#c51b7d"
            ],
            [
             0.2,
             "#de77ae"
            ],
            [
             0.3,
             "#f1b6da"
            ],
            [
             0.4,
             "#fde0ef"
            ],
            [
             0.5,
             "#f7f7f7"
            ],
            [
             0.6,
             "#e6f5d0"
            ],
            [
             0.7,
             "#b8e186"
            ],
            [
             0.8,
             "#7fbc41"
            ],
            [
             0.9,
             "#4d9221"
            ],
            [
             1,
             "#276419"
            ]
           ],
           "sequential": [
            [
             0,
             "#0d0887"
            ],
            [
             0.1111111111111111,
             "#46039f"
            ],
            [
             0.2222222222222222,
             "#7201a8"
            ],
            [
             0.3333333333333333,
             "#9c179e"
            ],
            [
             0.4444444444444444,
             "#bd3786"
            ],
            [
             0.5555555555555556,
             "#d8576b"
            ],
            [
             0.6666666666666666,
             "#ed7953"
            ],
            [
             0.7777777777777778,
             "#fb9f3a"
            ],
            [
             0.8888888888888888,
             "#fdca26"
            ],
            [
             1,
             "#f0f921"
            ]
           ],
           "sequentialminus": [
            [
             0,
             "#0d0887"
            ],
            [
             0.1111111111111111,
             "#46039f"
            ],
            [
             0.2222222222222222,
             "#7201a8"
            ],
            [
             0.3333333333333333,
             "#9c179e"
            ],
            [
             0.4444444444444444,
             "#bd3786"
            ],
            [
             0.5555555555555556,
             "#d8576b"
            ],
            [
             0.6666666666666666,
             "#ed7953"
            ],
            [
             0.7777777777777778,
             "#fb9f3a"
            ],
            [
             0.8888888888888888,
             "#fdca26"
            ],
            [
             1,
             "#f0f921"
            ]
           ]
          },
          "colorway": [
           "#636efa",
           "#EF553B",
           "#00cc96",
           "#ab63fa",
           "#FFA15A",
           "#19d3f3",
           "#FF6692",
           "#B6E880",
           "#FF97FF",
           "#FECB52"
          ],
          "font": {
           "color": "#2a3f5f"
          },
          "geo": {
           "bgcolor": "white",
           "lakecolor": "white",
           "landcolor": "#E5ECF6",
           "showlakes": true,
           "showland": true,
           "subunitcolor": "white"
          },
          "hoverlabel": {
           "align": "left"
          },
          "hovermode": "closest",
          "mapbox": {
           "style": "light"
          },
          "paper_bgcolor": "white",
          "plot_bgcolor": "#E5ECF6",
          "polar": {
           "angularaxis": {
            "gridcolor": "white",
            "linecolor": "white",
            "ticks": ""
           },
           "bgcolor": "#E5ECF6",
           "radialaxis": {
            "gridcolor": "white",
            "linecolor": "white",
            "ticks": ""
           }
          },
          "scene": {
           "xaxis": {
            "backgroundcolor": "#E5ECF6",
            "gridcolor": "white",
            "gridwidth": 2,
            "linecolor": "white",
            "showbackground": true,
            "ticks": "",
            "zerolinecolor": "white"
           },
           "yaxis": {
            "backgroundcolor": "#E5ECF6",
            "gridcolor": "white",
            "gridwidth": 2,
            "linecolor": "white",
            "showbackground": true,
            "ticks": "",
            "zerolinecolor": "white"
           },
           "zaxis": {
            "backgroundcolor": "#E5ECF6",
            "gridcolor": "white",
            "gridwidth": 2,
            "linecolor": "white",
            "showbackground": true,
            "ticks": "",
            "zerolinecolor": "white"
           }
          },
          "shapedefaults": {
           "line": {
            "color": "#2a3f5f"
           }
          },
          "ternary": {
           "aaxis": {
            "gridcolor": "white",
            "linecolor": "white",
            "ticks": ""
           },
           "baxis": {
            "gridcolor": "white",
            "linecolor": "white",
            "ticks": ""
           },
           "bgcolor": "#E5ECF6",
           "caxis": {
            "gridcolor": "white",
            "linecolor": "white",
            "ticks": ""
           }
          },
          "title": {
           "x": 0.05
          },
          "xaxis": {
           "automargin": true,
           "gridcolor": "white",
           "linecolor": "white",
           "ticks": "",
           "title": {
            "standoff": 15
           },
           "zerolinecolor": "white",
           "zerolinewidth": 2
          },
          "yaxis": {
           "automargin": true,
           "gridcolor": "white",
           "linecolor": "white",
           "ticks": "",
           "title": {
            "standoff": 15
           },
           "zerolinecolor": "white",
           "zerolinewidth": 2
          }
         }
        },
        "title": {
         "text": "Visualizing people as vectors"
        },
        "xaxis": {
         "anchor": "y",
         "domain": [
          0,
          1
         ],
         "title": {
          "text": "Age"
         }
        },
        "yaxis": {
         "anchor": "x",
         "domain": [
          0,
          1
         ],
         "title": {
          "text": "Weight"
         }
        }
       }
      },
      "text/html": [
       "<div>                            <div id=\"b99fe035-809f-4f24-92a8-4013902f1abc\" class=\"plotly-graph-div\" style=\"height:525px; width:100%;\"></div>            <script type=\"text/javascript\">                require([\"plotly\"], function(Plotly) {                    window.PLOTLYENV=window.PLOTLYENV || {};                                    if (document.getElementById(\"b99fe035-809f-4f24-92a8-4013902f1abc\")) {                    Plotly.newPlot(                        \"b99fe035-809f-4f24-92a8-4013902f1abc\",                        [{\"hovertemplate\":\"Person=Person 1<br>Age=%{x}<br>Weight=%{y}<extra></extra>\",\"legendgroup\":\"Person 1\",\"marker\":{\"color\":\"#636efa\",\"symbol\":\"circle\"},\"mode\":\"markers\",\"name\":\"Person 1\",\"orientation\":\"v\",\"showlegend\":true,\"x\":[15],\"xaxis\":\"x\",\"y\":[35],\"yaxis\":\"y\",\"type\":\"scatter\"},{\"hovertemplate\":\"Person=Person 2<br>Age=%{x}<br>Weight=%{y}<extra></extra>\",\"legendgroup\":\"Person 2\",\"marker\":{\"color\":\"#EF553B\",\"symbol\":\"circle\"},\"mode\":\"markers\",\"name\":\"Person 2\",\"orientation\":\"v\",\"showlegend\":true,\"x\":[25],\"xaxis\":\"x\",\"y\":[80],\"yaxis\":\"y\",\"type\":\"scatter\"},{\"hovertemplate\":\"Person=Person 3<br>Age=%{x}<br>Weight=%{y}<extra></extra>\",\"legendgroup\":\"Person 3\",\"marker\":{\"color\":\"#00cc96\",\"symbol\":\"circle\"},\"mode\":\"markers\",\"name\":\"Person 3\",\"orientation\":\"v\",\"showlegend\":true,\"x\":[30],\"xaxis\":\"x\",\"y\":[90],\"yaxis\":\"y\",\"type\":\"scatter\"},{\"hovertemplate\":\"Person=Person 4<br>Age=%{x}<br>Weight=%{y}<extra></extra>\",\"legendgroup\":\"Person 4\",\"marker\":{\"color\":\"#ab63fa\",\"symbol\":\"circle\"},\"mode\":\"markers\",\"name\":\"Person 4\",\"orientation\":\"v\",\"showlegend\":true,\"x\":[35],\"xaxis\":\"x\",\"y\":[70],\"yaxis\":\"y\",\"type\":\"scatter\"},{\"line\":{\"width\":2},\"mode\":\"lines\",\"name\":\"Person 1\",\"x\":[0,15],\"y\":[0,35],\"type\":\"scatter\"},{\"line\":{\"width\":2},\"mode\":\"lines\",\"name\":\"Person 2\",\"x\":[0,25],\"y\":[0,80],\"type\":\"scatter\"},{\"line\":{\"width\":2},\"mode\":\"lines\",\"name\":\"Person 3\",\"x\":[0,30],\"y\":[0,90],\"type\":\"scatter\"},{\"line\":{\"width\":2},\"mode\":\"lines\",\"name\":\"Person 4\",\"x\":[0,35],\"y\":[0,70],\"type\":\"scatter\"}],                        {\"template\":{\"data\":{\"histogram2dcontour\":[{\"type\":\"histogram2dcontour\",\"colorbar\":{\"outlinewidth\":0,\"ticks\":\"\"},\"colorscale\":[[0.0,\"#0d0887\"],[0.1111111111111111,\"#46039f\"],[0.2222222222222222,\"#7201a8\"],[0.3333333333333333,\"#9c179e\"],[0.4444444444444444,\"#bd3786\"],[0.5555555555555556,\"#d8576b\"],[0.6666666666666666,\"#ed7953\"],[0.7777777777777778,\"#fb9f3a\"],[0.8888888888888888,\"#fdca26\"],[1.0,\"#f0f921\"]]}],\"choropleth\":[{\"type\":\"choropleth\",\"colorbar\":{\"outlinewidth\":0,\"ticks\":\"\"}}],\"histogram2d\":[{\"type\":\"histogram2d\",\"colorbar\":{\"outlinewidth\":0,\"ticks\":\"\"},\"colorscale\":[[0.0,\"#0d0887\"],[0.1111111111111111,\"#46039f\"],[0.2222222222222222,\"#7201a8\"],[0.3333333333333333,\"#9c179e\"],[0.4444444444444444,\"#bd3786\"],[0.5555555555555556,\"#d8576b\"],[0.6666666666666666,\"#ed7953\"],[0.7777777777777778,\"#fb9f3a\"],[0.8888888888888888,\"#fdca26\"],[1.0,\"#f0f921\"]]}],\"heatmap\":[{\"type\":\"heatmap\",\"colorbar\":{\"outlinewidth\":0,\"ticks\":\"\"},\"colorscale\":[[0.0,\"#0d0887\"],[0.1111111111111111,\"#46039f\"],[0.2222222222222222,\"#7201a8\"],[0.3333333333333333,\"#9c179e\"],[0.4444444444444444,\"#bd3786\"],[0.5555555555555556,\"#d8576b\"],[0.6666666666666666,\"#ed7953\"],[0.7777777777777778,\"#fb9f3a\"],[0.8888888888888888,\"#fdca26\"],[1.0,\"#f0f921\"]]}],\"heatmapgl\":[{\"type\":\"heatmapgl\",\"colorbar\":{\"outlinewidth\":0,\"ticks\":\"\"},\"colorscale\":[[0.0,\"#0d0887\"],[0.1111111111111111,\"#46039f\"],[0.2222222222222222,\"#7201a8\"],[0.3333333333333333,\"#9c179e\"],[0.4444444444444444,\"#bd3786\"],[0.5555555555555556,\"#d8576b\"],[0.6666666666666666,\"#ed7953\"],[0.7777777777777778,\"#fb9f3a\"],[0.8888888888888888,\"#fdca26\"],[1.0,\"#f0f921\"]]}],\"contourcarpet\":[{\"type\":\"contourcarpet\",\"colorbar\":{\"outlinewidth\":0,\"ticks\":\"\"}}],\"contour\":[{\"type\":\"contour\",\"colorbar\":{\"outlinewidth\":0,\"ticks\":\"\"},\"colorscale\":[[0.0,\"#0d0887\"],[0.1111111111111111,\"#46039f\"],[0.2222222222222222,\"#7201a8\"],[0.3333333333333333,\"#9c179e\"],[0.4444444444444444,\"#bd3786\"],[0.5555555555555556,\"#d8576b\"],[0.6666666666666666,\"#ed7953\"],[0.7777777777777778,\"#fb9f3a\"],[0.8888888888888888,\"#fdca26\"],[1.0,\"#f0f921\"]]}],\"surface\":[{\"type\":\"surface\",\"colorbar\":{\"outlinewidth\":0,\"ticks\":\"\"},\"colorscale\":[[0.0,\"#0d0887\"],[0.1111111111111111,\"#46039f\"],[0.2222222222222222,\"#7201a8\"],[0.3333333333333333,\"#9c179e\"],[0.4444444444444444,\"#bd3786\"],[0.5555555555555556,\"#d8576b\"],[0.6666666666666666,\"#ed7953\"],[0.7777777777777778,\"#fb9f3a\"],[0.8888888888888888,\"#fdca26\"],[1.0,\"#f0f921\"]]}],\"mesh3d\":[{\"type\":\"mesh3d\",\"colorbar\":{\"outlinewidth\":0,\"ticks\":\"\"}}],\"scatter\":[{\"fillpattern\":{\"fillmode\":\"overlay\",\"size\":10,\"solidity\":0.2},\"type\":\"scatter\"}],\"parcoords\":[{\"type\":\"parcoords\",\"line\":{\"colorbar\":{\"outlinewidth\":0,\"ticks\":\"\"}}}],\"scatterpolargl\":[{\"type\":\"scatterpolargl\",\"marker\":{\"colorbar\":{\"outlinewidth\":0,\"ticks\":\"\"}}}],\"bar\":[{\"error_x\":{\"color\":\"#2a3f5f\"},\"error_y\":{\"color\":\"#2a3f5f\"},\"marker\":{\"line\":{\"color\":\"#E5ECF6\",\"width\":0.5},\"pattern\":{\"fillmode\":\"overlay\",\"size\":10,\"solidity\":0.2}},\"type\":\"bar\"}],\"scattergeo\":[{\"type\":\"scattergeo\",\"marker\":{\"colorbar\":{\"outlinewidth\":0,\"ticks\":\"\"}}}],\"scatterpolar\":[{\"type\":\"scatterpolar\",\"marker\":{\"colorbar\":{\"outlinewidth\":0,\"ticks\":\"\"}}}],\"histogram\":[{\"marker\":{\"pattern\":{\"fillmode\":\"overlay\",\"size\":10,\"solidity\":0.2}},\"type\":\"histogram\"}],\"scattergl\":[{\"type\":\"scattergl\",\"marker\":{\"colorbar\":{\"outlinewidth\":0,\"ticks\":\"\"}}}],\"scatter3d\":[{\"type\":\"scatter3d\",\"line\":{\"colorbar\":{\"outlinewidth\":0,\"ticks\":\"\"}},\"marker\":{\"colorbar\":{\"outlinewidth\":0,\"ticks\":\"\"}}}],\"scattermapbox\":[{\"type\":\"scattermapbox\",\"marker\":{\"colorbar\":{\"outlinewidth\":0,\"ticks\":\"\"}}}],\"scatterternary\":[{\"type\":\"scatterternary\",\"marker\":{\"colorbar\":{\"outlinewidth\":0,\"ticks\":\"\"}}}],\"scattercarpet\":[{\"type\":\"scattercarpet\",\"marker\":{\"colorbar\":{\"outlinewidth\":0,\"ticks\":\"\"}}}],\"carpet\":[{\"aaxis\":{\"endlinecolor\":\"#2a3f5f\",\"gridcolor\":\"white\",\"linecolor\":\"white\",\"minorgridcolor\":\"white\",\"startlinecolor\":\"#2a3f5f\"},\"baxis\":{\"endlinecolor\":\"#2a3f5f\",\"gridcolor\":\"white\",\"linecolor\":\"white\",\"minorgridcolor\":\"white\",\"startlinecolor\":\"#2a3f5f\"},\"type\":\"carpet\"}],\"table\":[{\"cells\":{\"fill\":{\"color\":\"#EBF0F8\"},\"line\":{\"color\":\"white\"}},\"header\":{\"fill\":{\"color\":\"#C8D4E3\"},\"line\":{\"color\":\"white\"}},\"type\":\"table\"}],\"barpolar\":[{\"marker\":{\"line\":{\"color\":\"#E5ECF6\",\"width\":0.5},\"pattern\":{\"fillmode\":\"overlay\",\"size\":10,\"solidity\":0.2}},\"type\":\"barpolar\"}],\"pie\":[{\"automargin\":true,\"type\":\"pie\"}]},\"layout\":{\"autotypenumbers\":\"strict\",\"colorway\":[\"#636efa\",\"#EF553B\",\"#00cc96\",\"#ab63fa\",\"#FFA15A\",\"#19d3f3\",\"#FF6692\",\"#B6E880\",\"#FF97FF\",\"#FECB52\"],\"font\":{\"color\":\"#2a3f5f\"},\"hovermode\":\"closest\",\"hoverlabel\":{\"align\":\"left\"},\"paper_bgcolor\":\"white\",\"plot_bgcolor\":\"#E5ECF6\",\"polar\":{\"bgcolor\":\"#E5ECF6\",\"angularaxis\":{\"gridcolor\":\"white\",\"linecolor\":\"white\",\"ticks\":\"\"},\"radialaxis\":{\"gridcolor\":\"white\",\"linecolor\":\"white\",\"ticks\":\"\"}},\"ternary\":{\"bgcolor\":\"#E5ECF6\",\"aaxis\":{\"gridcolor\":\"white\",\"linecolor\":\"white\",\"ticks\":\"\"},\"baxis\":{\"gridcolor\":\"white\",\"linecolor\":\"white\",\"ticks\":\"\"},\"caxis\":{\"gridcolor\":\"white\",\"linecolor\":\"white\",\"ticks\":\"\"}},\"coloraxis\":{\"colorbar\":{\"outlinewidth\":0,\"ticks\":\"\"}},\"colorscale\":{\"sequential\":[[0.0,\"#0d0887\"],[0.1111111111111111,\"#46039f\"],[0.2222222222222222,\"#7201a8\"],[0.3333333333333333,\"#9c179e\"],[0.4444444444444444,\"#bd3786\"],[0.5555555555555556,\"#d8576b\"],[0.6666666666666666,\"#ed7953\"],[0.7777777777777778,\"#fb9f3a\"],[0.8888888888888888,\"#fdca26\"],[1.0,\"#f0f921\"]],\"sequentialminus\":[[0.0,\"#0d0887\"],[0.1111111111111111,\"#46039f\"],[0.2222222222222222,\"#7201a8\"],[0.3333333333333333,\"#9c179e\"],[0.4444444444444444,\"#bd3786\"],[0.5555555555555556,\"#d8576b\"],[0.6666666666666666,\"#ed7953\"],[0.7777777777777778,\"#fb9f3a\"],[0.8888888888888888,\"#fdca26\"],[1.0,\"#f0f921\"]],\"diverging\":[[0,\"#8e0152\"],[0.1,\"#c51b7d\"],[0.2,\"#de77ae\"],[0.3,\"#f1b6da\"],[0.4,\"#fde0ef\"],[0.5,\"#f7f7f7\"],[0.6,\"#e6f5d0\"],[0.7,\"#b8e186\"],[0.8,\"#7fbc41\"],[0.9,\"#4d9221\"],[1,\"#276419\"]]},\"xaxis\":{\"gridcolor\":\"white\",\"linecolor\":\"white\",\"ticks\":\"\",\"title\":{\"standoff\":15},\"zerolinecolor\":\"white\",\"automargin\":true,\"zerolinewidth\":2},\"yaxis\":{\"gridcolor\":\"white\",\"linecolor\":\"white\",\"ticks\":\"\",\"title\":{\"standoff\":15},\"zerolinecolor\":\"white\",\"automargin\":true,\"zerolinewidth\":2},\"scene\":{\"xaxis\":{\"backgroundcolor\":\"#E5ECF6\",\"gridcolor\":\"white\",\"linecolor\":\"white\",\"showbackground\":true,\"ticks\":\"\",\"zerolinecolor\":\"white\",\"gridwidth\":2},\"yaxis\":{\"backgroundcolor\":\"#E5ECF6\",\"gridcolor\":\"white\",\"linecolor\":\"white\",\"showbackground\":true,\"ticks\":\"\",\"zerolinecolor\":\"white\",\"gridwidth\":2},\"zaxis\":{\"backgroundcolor\":\"#E5ECF6\",\"gridcolor\":\"white\",\"linecolor\":\"white\",\"showbackground\":true,\"ticks\":\"\",\"zerolinecolor\":\"white\",\"gridwidth\":2}},\"shapedefaults\":{\"line\":{\"color\":\"#2a3f5f\"}},\"annotationdefaults\":{\"arrowcolor\":\"#2a3f5f\",\"arrowhead\":0,\"arrowwidth\":1},\"geo\":{\"bgcolor\":\"white\",\"landcolor\":\"#E5ECF6\",\"subunitcolor\":\"white\",\"showland\":true,\"showlakes\":true,\"lakecolor\":\"white\"},\"title\":{\"x\":0.05},\"mapbox\":{\"style\":\"light\"}}},\"xaxis\":{\"anchor\":\"y\",\"domain\":[0.0,1.0],\"title\":{\"text\":\"Age\"}},\"yaxis\":{\"anchor\":\"x\",\"domain\":[0.0,1.0],\"title\":{\"text\":\"Weight\"}},\"legend\":{\"title\":{\"text\":\"Person\"},\"tracegroupgap\":0},\"title\":{\"text\":\"Visualizing people as vectors\"},\"annotations\":[{\"align\":\"right\",\"bgcolor\":\"white\",\"bordercolor\":\"black\",\"borderpad\":4,\"borderwidth\":1,\"font\":{\"size\":12},\"opacity\":0.8,\"showarrow\":false,\"text\":\"Dot product (Person 1, Person 2): 3175\",\"x\":35,\"xref\":\"x\",\"y\":5,\"yref\":\"y\"},{\"align\":\"right\",\"bgcolor\":\"white\",\"bordercolor\":\"black\",\"borderpad\":4,\"borderwidth\":1,\"font\":{\"size\":12},\"opacity\":0.8,\"showarrow\":false,\"text\":\"Dot product (Person 1, Person 3): 3600\",\"x\":35,\"xref\":\"x\",\"y\":-5,\"yref\":\"y\"},{\"align\":\"right\",\"bgcolor\":\"white\",\"bordercolor\":\"black\",\"borderpad\":4,\"borderwidth\":1,\"font\":{\"size\":12},\"opacity\":0.8,\"showarrow\":false,\"text\":\"Dot product (Person 1, Person 4): 2975\",\"x\":35,\"xref\":\"x\",\"y\":-15,\"yref\":\"y\"},{\"align\":\"right\",\"bgcolor\":\"white\",\"bordercolor\":\"black\",\"borderpad\":4,\"borderwidth\":1,\"font\":{\"size\":12},\"opacity\":0.8,\"showarrow\":false,\"text\":\"Dot product (Person 2, Person 3): 7950\",\"x\":35,\"xref\":\"x\",\"y\":-25,\"yref\":\"y\"},{\"align\":\"right\",\"bgcolor\":\"white\",\"bordercolor\":\"black\",\"borderpad\":4,\"borderwidth\":1,\"font\":{\"size\":12},\"opacity\":0.8,\"showarrow\":false,\"text\":\"Dot product (Person 2, Person 4): 6475\",\"x\":35,\"xref\":\"x\",\"y\":-35,\"yref\":\"y\"},{\"align\":\"right\",\"bgcolor\":\"white\",\"bordercolor\":\"black\",\"borderpad\":4,\"borderwidth\":1,\"font\":{\"size\":12},\"opacity\":0.8,\"showarrow\":false,\"text\":\"Dot product (Person 3, Person 4): 7350\",\"x\":35,\"xref\":\"x\",\"y\":-45,\"yref\":\"y\"}]},                        {\"responsive\": true}                    ).then(function(){\n",
       "                            \n",
       "var gd = document.getElementById('b99fe035-809f-4f24-92a8-4013902f1abc');\n",
       "var x = new MutationObserver(function (mutations, observer) {{\n",
       "        var display = window.getComputedStyle(gd).display;\n",
       "        if (!display || display === 'none') {{\n",
       "            console.log([gd, 'removed!']);\n",
       "            Plotly.purge(gd);\n",
       "            observer.disconnect();\n",
       "        }}\n",
       "}});\n",
       "\n",
       "// Listen for the removal of the full notebook cells\n",
       "var notebookContainer = gd.closest('#notebook-container');\n",
       "if (notebookContainer) {{\n",
       "    x.observe(notebookContainer, {childList: true});\n",
       "}}\n",
       "\n",
       "// Listen for the clearing of the current output cell\n",
       "var outputEl = gd.closest('.output');\n",
       "if (outputEl) {{\n",
       "    x.observe(outputEl, {childList: true});\n",
       "}}\n",
       "\n",
       "                        })                };                });            </script>        </div>"
      ]
     },
     "metadata": {},
     "output_type": "display_data"
    }
   ],
   "source": [
    "fig = px.scatter(df, x='Age', y='Weight', color='Person', size_max=60, title='Visualizing people as vectors')\n",
    "\n",
    "# Add lines from the origin to each point\n",
    "for _, row in df.iterrows():\n",
    "    fig.add_trace(go.Scatter(x=[0, row['Age']], y=[0, row['Weight']],\n",
    "                             mode='lines',\n",
    "                             line=dict(width=2),\n",
    "                             name=row['Person']))\n",
    "\n",
    "# Add dot product labels in the lower right corner\n",
    "annotations = []\n",
    "start_position = df['Weight'].min() - 30  # Start the labels 30 units lower\n",
    "for idx, pair in enumerate(dot_products):\n",
    "    label = f'Dot product ({pair[0]}, {pair[1]}): {pair[2]}'\n",
    "    annotations.append(go.layout.Annotation(\n",
    "        x=df['Age'].max(), \n",
    "        y=start_position - idx * 10,  # Subtract idx * 10 to increase space between labels\n",
    "        xref=\"x\",\n",
    "        yref=\"y\",\n",
    "        text=label,\n",
    "        showarrow=False,\n",
    "        font=dict(size=12),\n",
    "        align=\"right\",\n",
    "        bordercolor=\"black\",\n",
    "        borderwidth=1,\n",
    "        borderpad=4,\n",
    "        bgcolor=\"white\",\n",
    "        opacity=0.8\n",
    "    ))\n",
    "\n",
    "fig.update_layout(annotations=annotations)\n",
    "\n",
    "# Show the plot\n",
    "fig.show()"
   ]
  },
  {
   "cell_type": "markdown",
   "metadata": {},
   "source": [
    "## Step 5: Visualizing the Data\n",
    "\n",
    "We will now create a visual plot to help us see the data and understand the relationships between the people and their dot products."
   ]
  },
  {
   "cell_type": "code",
   "execution_count": null,
   "metadata": {},
   "outputs": [],
   "source": []
  },
  {
   "cell_type": "markdown",
   "metadata": {},
   "source": [
    "## Step 6: Summary\n",
    "\n",
    "Finally, we summarize what we have learned about the dot product and how it can be used to compare data."
   ]
  },
  {
   "cell_type": "markdown",
   "metadata": {},
   "source": [
    "## Step 7: Manim Animations\n",
    "\n",
    "Let's create some beautiful animations using Manim to visualize and explain the dot product concept step by step."
   ]
  },
  {
   "cell_type": "code",
   "execution_count": null,
   "metadata": {},
   "outputs": [],
   "source": [
    "%%manim -qm -v WARNING VectorIntroduction\n",
    "\n",
    "class VectorIntroduction(Scene):\n",
    "    def construct(self):\n",
    "        # Title\n",
    "        title = Text(\"What is a Vector?\", font_size=48, color=BLUE)\n",
    "        self.play(Write(title))\n",
    "        self.wait(1)\n",
    "        self.play(title.animate.to_edge(UP))\n",
    "        \n",
    "        # Create coordinate system\n",
    "        axes = Axes(\n",
    "            x_range=[-1, 5, 1],\n",
    "            y_range=[-1, 5, 1],\n",
    "            x_length=6,\n",
    "            y_length=6,\n",
    "            axis_config={\"color\": GREY}\n",
    "        )\n",
    "        \n",
    "        self.play(Create(axes))\n",
    "        \n",
    "        # Explanation text\n",
    "        explanation = Text(\n",
    "            \"A vector is like an arrow that points from one place to another.\\n\"\n",
    "            \"It has both direction and length (magnitude).\",\n",
    "            font_size=24,\n",
    "            color=WHITE\n",
    "        ).to_edge(DOWN)\n",
    "        \n",
    "        self.play(Write(explanation))\n",
    "        \n",
    "        # Create a simple vector\n",
    "        vector = Vector([3, 2], color=RED)\n",
    "        vector_label = MathTex(\"\\\\vec{v} = (3, 2)\", color=RED).next_to(vector.get_end(), UR)\n",
    "        \n",
    "        self.play(Create(vector))\n",
    "        self.play(Write(vector_label))\n",
    "        \n",
    "        # Show components\n",
    "        x_component = DashedLine([0, 0, 0], [3, 0, 0], color=GREEN)\n",
    "        y_component = DashedLine([3, 0, 0], [3, 2, 0], color=GREEN)\n",
    "        \n",
    "        x_label = Text(\"x = 3\", font_size=20, color=GREEN).next_to(x_component, DOWN)\n",
    "        y_label = Text(\"y = 2\", font_size=20, color=GREEN).next_to(y_component, RIGHT)\n",
    "        \n",
    "        self.play(Create(x_component), Create(y_component))\n",
    "        self.play(Write(x_label), Write(y_label))\n",
    "        \n",
    "        self.wait(3)"
   ]
  },
  {
   "cell_type": "markdown",
   "metadata": {},
   "source": [
    "### Animation 1: Vector Introduction\n",
    "\n",
    "This animation shows what a vector is - an arrow with direction and magnitude. We can represent it with coordinates like (3, 2)."
   ]
  },
  {
   "cell_type": "code",
   "execution_count": null,
   "metadata": {},
   "outputs": [],
   "source": [
    "%%manim -qm -v WARNING DotProductConcept\n",
    "\n",
    "class DotProductConcept(Scene):\n",
    "    def construct(self):\n",
    "        # Title\n",
    "        title = Text(\"What is the Dot Product?\", font_size=48, color=BLUE)\n",
    "        self.play(Write(title))\n",
    "        self.wait(1)\n",
    "        self.play(title.animate.to_edge(UP))\n",
    "        \n",
    "        # Create coordinate system\n",
    "        axes = Axes(\n",
    "            x_range=[-1, 6, 1],\n",
    "            y_range=[-1, 5, 1],\n",
    "            x_length=8,\n",
    "            y_length=6,\n",
    "            axis_config={\"color\": GREY}\n",
    "        )\n",
    "        \n",
    "        self.play(Create(axes))\n",
    "        \n",
    "        # Create two vectors\n",
    "        vector_a = Vector([4, 3], color=RED)\n",
    "        vector_b = Vector([3, 1], color=BLUE)\n",
    "        \n",
    "        label_a = MathTex(\"\\\\vec{a} = (4, 3)\", color=RED).to_edge(LEFT).shift(UP*2)\n",
    "        label_b = MathTex(\"\\\\vec{b} = (3, 1)\", color=BLUE).to_edge(LEFT).shift(UP*1)\n",
    "        \n",
    "        self.play(Create(vector_a), Create(vector_b))\n",
    "        self.play(Write(label_a), Write(label_b))\n",
    "        \n",
    "        # Show the formula\n",
    "        formula = MathTex(\n",
    "            \"\\\\vec{a} \\\\cdot \\\\vec{b} = a_x \\\\times b_x + a_y \\\\times b_y\",\n",
    "            font_size=36,\n",
    "            color=WHITE\n",
    "        ).to_edge(LEFT)\n",
    "        \n",
    "        self.play(Write(formula))\n",
    "        self.wait(1)\n",
    "        \n",
    "        # Calculate step by step\n",
    "        calculation = MathTex(\n",
    "            \"\\\\vec{a} \\\\cdot \\\\vec{b} = 4 \\\\times 3 + 3 \\\\times 1 = 12 + 3 = 15\",\n",
    "            font_size=32,\n",
    "            color=YELLOW\n",
    "        ).next_to(formula, DOWN)\n",
    "        \n",
    "        self.play(Write(calculation))\n",
    "        \n",
    "        # Highlight the angle between vectors\n",
    "        angle_arc = Arc(\n",
    "            start_angle=0,\n",
    "            angle=np.arctan(3/4) - np.arctan(1/3),\n",
    "            radius=1,\n",
    "            color=GREEN\n",
    "        )\n",
    "        \n",
    "        angle_label = MathTex(\"\\\\theta\", color=GREEN).next_to(angle_arc, RIGHT, buff=0.1)\n",
    "        \n",
    "        self.play(Create(angle_arc), Write(angle_label))\n",
    "        \n",
    "        # Explanation\n",
    "        explanation = Text(\n",
    "            \"The dot product tells us how much two vectors point in the same direction.\\n\"\n",
    "            \"Larger values mean more similarity in direction.\",\n",
    "            font_size=24,\n",
    "            color=WHITE\n",
    "        ).to_edge(DOWN)\n",
    "        \n",
    "        self.play(Write(explanation))\n",
    "        self.wait(3)"
   ]
  },
  {
   "cell_type": "markdown",
   "metadata": {},
   "source": [
    "### Animation 2: Dot Product Concept\n",
    "\n",
    "This animation shows how to calculate the dot product of two vectors and explains that it measures how much the vectors point in the same direction."
   ]
  },
  {
   "cell_type": "code",
   "execution_count": null,
   "metadata": {},
   "outputs": [],
   "source": [
    "%%manim -qm -v WARNING GeometricDotProduct\n",
    "\n",
    "class GeometricDotProduct(Scene):\n",
    "    def construct(self):\n",
    "        # Title\n",
    "        title = Text(\"Geometric Meaning of Dot Product\", font_size=42, color=BLUE)\n",
    "        self.play(Write(title))\n",
    "        self.wait(1)\n",
    "        self.play(title.animate.to_edge(UP))\n",
    "        \n",
    "        # Create coordinate system\n",
    "        axes = Axes(\n",
    "            x_range=[-1, 6, 1],\n",
    "            y_range=[-1, 5, 1],\n",
    "            x_length=8,\n",
    "            y_length=6,\n",
    "            axis_config={\"color\": GREY}\n",
    "        )\n",
    "        \n",
    "        self.play(Create(axes))\n",
    "        \n",
    "        # Create vectors\n",
    "        vector_a = Vector([4, 3], color=RED)\n",
    "        vector_b = Vector([5, 1], color=BLUE)\n",
    "        \n",
    "        self.play(Create(vector_a), Create(vector_b))\n",
    "        \n",
    "        # Labels\n",
    "        label_a = MathTex(\"\\\\vec{a}\", color=RED).next_to(vector_a.get_end(), UR)\n",
    "        label_b = MathTex(\"\\\\vec{b}\", color=BLUE).next_to(vector_b.get_end(), UR)\n",
    "        \n",
    "        self.play(Write(label_a), Write(label_b))\n",
    "        \n",
    "        # Show projection of vector a onto vector b\n",
    "        # Calculate projection\n",
    "        a = np.array([4, 3])\n",
    "        b = np.array([5, 1])\n",
    "        proj_length = np.dot(a, b) / np.linalg.norm(b)\n",
    "        proj_vector = proj_length * b / np.linalg.norm(b)\n",
    "        \n",
    "        # Draw projection\n",
    "        projection = Vector(proj_vector, color=GREEN)\n",
    "        proj_line = DashedLine(vector_a.get_end(), projection.get_end(), color=GREEN)\n",
    "        \n",
    "        self.play(Create(projection))\n",
    "        self.play(Create(proj_line))\n",
    "        \n",
    "        proj_label = Text(\"Projection of a onto b\", font_size=20, color=GREEN).next_to(projection, DOWN)\n",
    "        self.play(Write(proj_label))\n",
    "        \n",
    "        # Show the formula relationship\n",
    "        formula = MathTex(\n",
    "            \"\\\\vec{a} \\\\cdot \\\\vec{b} = |\\\\vec{a}| \\\\times |\\\\vec{b}| \\\\times \\\\cos(\\\\theta)\",\n",
    "            font_size=28,\n",
    "            color=WHITE\n",
    "        ).to_edge(LEFT).shift(DOWN*2)\n",
    "        \n",
    "        self.play(Write(formula))\n",
    "        \n",
    "        # Explanation\n",
    "        explanation = Text(\n",
    "            \"The dot product equals the length of vector a times\\n\"\n",
    "            \"the length of its projection onto vector b\",\n",
    "            font_size=20,\n",
    "            color=WHITE\n",
    "        ).to_edge(DOWN)\n",
    "        \n",
    "        self.play(Write(explanation))\n",
    "        self.wait(3)"
   ]
  },
  {
   "cell_type": "markdown",
   "metadata": {},
   "source": [
    "### Animation 3: Geometric Interpretation\n",
    "\n",
    "This animation shows the geometric meaning of the dot product - it's related to how one vector projects onto another."
   ]
  },
  {
   "cell_type": "code",
   "execution_count": null,
   "metadata": {},
   "outputs": [],
   "source": [
    "%%manim -qm -v WARNING PeopleVectors\n",
    "\n",
    "class PeopleVectors(Scene):\n",
    "    def construct(self):\n",
    "        # Title\n",
    "        title = Text(\"Our People as Vectors\", font_size=42, color=BLUE)\n",
    "        self.play(Write(title))\n",
    "        self.wait(1)\n",
    "        self.play(title.animate.to_edge(UP))\n",
    "        \n",
    "        # Create coordinate system\n",
    "        axes = Axes(\n",
    "            x_range=[0, 40, 10],\n",
    "            y_range=[0, 100, 20],\n",
    "            x_length=8,\n",
    "            y_length=6,\n",
    "            axis_config={\"color\": GREY},\n",
    "            tips=False\n",
    "        )\n",
    "        \n",
    "        # Add labels\n",
    "        x_label = Text(\"Age\", font_size=24).next_to(axes.x_axis, DOWN)\n",
    "        y_label = Text(\"Weight\", font_size=24).next_to(axes.y_axis, LEFT)\n",
    "        \n",
    "        self.play(Create(axes), Write(x_label), Write(y_label))\n",
    "        \n",
    "        # Define our people data\n",
    "        people_data = [\n",
    "            (15, 35, \"Person 1\", RED),\n",
    "            (25, 80, \"Person 2\", BLUE),\n",
    "            (30, 90, \"Person 3\", GREEN),\n",
    "            (35, 70, \"Person 4\", YELLOW)\n",
    "        ]\n",
    "        \n",
    "        vectors = []\n",
    "        labels = []\n",
    "        \n",
    "        # Create vectors for each person\n",
    "        for age, weight, name, color in people_data:\n",
    "            # Scale coordinates to fit the axes\n",
    "            scaled_coords = [age/5, weight/20]  # Scale down for visualization\n",
    "            vector = Vector(scaled_coords, color=color)\n",
    "            vectors.append(vector)\n",
    "            \n",
    "            # Add label\n",
    "            label = Text(f\"{name}\\n({age}, {weight})\", font_size=16, color=color)\n",
    "            label.next_to(vector.get_end(), UR, buff=0.1)\n",
    "            labels.append(label)\n",
    "        \n",
    "        # Animate creation of vectors one by one\n",
    "        for i, (vector, label) in enumerate(zip(vectors, labels)):\n",
    "            self.play(Create(vector), Write(label))\n",
    "            self.wait(0.5)\n",
    "        \n",
    "        # Show dot product calculation between Person 1 and Person 2\n",
    "        calc_text = Text(\n",
    "            \"Dot Product (Person 1, Person 2):\\n\"\n",
    "            \"15 × 25 + 35 × 80 = 375 + 2800 = 3175\",\n",
    "            font_size=20,\n",
    "            color=WHITE\n",
    "        ).to_edge(DOWN)\n",
    "        \n",
    "        self.play(Write(calc_text))\n",
    "        \n",
    "        # Highlight the two vectors\n",
    "        self.play(\n",
    "            vectors[0].animate.set_stroke(width=8),\n",
    "            vectors[1].animate.set_stroke(width=8)\n",
    "        )\n",
    "        \n",
    "        self.wait(2)\n",
    "        \n",
    "        # Show interpretation\n",
    "        interpretation = Text(\n",
    "            \"Higher dot product = more similar people\\n\"\n",
    "            \"(similar age and weight patterns)\",\n",
    "            font_size=18,\n",
    "            color=YELLOW\n",
    "        ).next_to(calc_text, UP)\n",
    "        \n",
    "        self.play(Write(interpretation))\n",
    "        self.wait(3)"
   ]
  },
  {
   "cell_type": "markdown",
   "metadata": {},
   "source": [
    "### Animation 4: Our Example - People as Vectors\n",
    "\n",
    "This animation visualizes our specific example, showing how each person can be represented as a vector with age and weight coordinates, and how we calculate their dot products."
   ]
  },
  {
   "cell_type": "code",
   "execution_count": null,
   "metadata": {},
   "outputs": [],
   "source": [
    "%%manim -qm -v WARNING SimilarityComparison\n",
    "\n",
    "class SimilarityComparison(Scene):\n",
    "    def construct(self):\n",
    "        # Title\n",
    "        title = Text(\"Dot Product and Similarity\", font_size=42, color=BLUE)\n",
    "        self.play(Write(title))\n",
    "        self.wait(1)\n",
    "        self.play(title.animate.to_edge(UP))\n",
    "        \n",
    "        # Create coordinate system\n",
    "        axes = Axes(\n",
    "            x_range=[-1, 5, 1],\n",
    "            y_range=[-1, 5, 1],\n",
    "            x_length=6,\n",
    "            y_length=6,\n",
    "            axis_config={\"color\": GREY}\n",
    "        )\n",
    "        \n",
    "        self.play(Create(axes))\n",
    "        \n",
    "        # Scenario 1: Similar vectors (small angle)\n",
    "        similar_title = Text(\"Similar Vectors\", font_size=32, color=GREEN).to_edge(LEFT).shift(UP*2)\n",
    "        self.play(Write(similar_title))\n",
    "        \n",
    "        vec1 = Vector([4, 3], color=RED)\n",
    "        vec2 = Vector([3.5, 2.5], color=BLUE)\n",
    "        \n",
    "        self.play(Create(vec1), Create(vec2))\n",
    "        \n",
    "        # Show small angle\n",
    "        small_angle = Arc(\n",
    "            start_angle=0,\n",
    "            angle=0.2,  # Small angle\n",
    "            radius=1,\n",
    "            color=GREEN\n",
    "        )\n",
    "        \n",
    "        self.play(Create(small_angle))\n",
    "        \n",
    "        dot_calc1 = Text(\n",
    "            \"Dot product: 4×3.5 + 3×2.5 = 21.5 (Large!)\",\n",
    "            font_size=20,\n",
    "            color=GREEN\n",
    "        ).next_to(similar_title, DOWN)\n",
    "        \n",
    "        self.play(Write(dot_calc1))\n",
    "        self.wait(2)\n",
    "        \n",
    "        # Clear scene for next scenario\n",
    "        self.play(FadeOut(vec1, vec2, small_angle, dot_calc1))\n",
    "        \n",
    "        # Scenario 2: Perpendicular vectors\n",
    "        perp_title = Text(\"Perpendicular Vectors\", font_size=32, color=YELLOW).to_edge(LEFT).shift(UP*2)\n",
    "        self.play(ReplacementTransform(similar_title, perp_title))\n",
    "        \n",
    "        vec3 = Vector([4, 0], color=RED)\n",
    "        vec4 = Vector([0, 3], color=BLUE)\n",
    "        \n",
    "        self.play(Create(vec3), Create(vec4))\n",
    "        \n",
    "        # Show 90-degree angle\n",
    "        right_angle = RightAngle(\n",
    "            Line([0, 0, 0], [1, 0, 0]),\n",
    "            Line([0, 0, 0], [0, 1, 0]),\n",
    "            length=0.3,\n",
    "            color=YELLOW\n",
    "        )\n",
    "        \n",
    "        self.play(Create(right_angle))\n",
    "        \n",
    "        dot_calc2 = Text(\n",
    "            \"Dot product: 4×0 + 0×3 = 0 (No similarity!)\",\n",
    "            font_size=20,\n",
    "            color=YELLOW\n",
    "        ).next_to(perp_title, DOWN)\n",
    "        \n",
    "        self.play(Write(dot_calc2))\n",
    "        self.wait(2)\n",
    "        \n",
    "        # Clear for final scenario\n",
    "        self.play(FadeOut(vec3, vec4, right_angle, dot_calc2))\n",
    "        \n",
    "        # Scenario 3: Opposite vectors\n",
    "        opp_title = Text(\"Opposite Vectors\", font_size=32, color=RED).to_edge(LEFT).shift(UP*2)\n",
    "        self.play(ReplacementTransform(perp_title, opp_title))\n",
    "        \n",
    "        vec5 = Vector([3, 2], color=RED)\n",
    "        vec6 = Vector([-3, -2], color=BLUE)\n",
    "        \n",
    "        self.play(Create(vec5), Create(vec6))\n",
    "        \n",
    "        dot_calc3 = Text(\n",
    "            \"Dot product: 3×(-3) + 2×(-2) = -13 (Opposite!)\",\n",
    "            font_size=20,\n",
    "            color=RED\n",
    "        ).next_to(opp_title, DOWN)\n",
    "        \n",
    "        self.play(Write(dot_calc3))\n",
    "        \n",
    "        # Final summary\n",
    "        summary = Text(\n",
    "            \"Dot Product Summary:\\n\"\n",
    "            \"• Positive = Similar direction\\n\"\n",
    "            \"• Zero = Perpendicular (no similarity)\\n\"\n",
    "            \"• Negative = Opposite direction\",\n",
    "            font_size=18,\n",
    "            color=WHITE\n",
    "        ).to_edge(DOWN)\n",
    "        \n",
    "        self.play(Write(summary))\n",
    "        self.wait(4)"
   ]
  },
  {
   "cell_type": "markdown",
   "metadata": {},
   "source": [
    "### Animation 5: Understanding Similarity\n",
    "\n",
    "This animation demonstrates how the dot product value relates to the angle between vectors and what different values mean in terms of similarity."
   ]
  },
  {
   "cell_type": "markdown",
   "metadata": {},
   "source": [
    "## How to Run the Animations\n",
    "\n",
    "To run these Manim animations:\n",
    "\n",
    "1. First, install Manim if you haven't already:\n",
    "   ```bash\n",
    "   pip install manim\n",
    "   ```\n",
    "\n",
    "2. Run each animation cell one by one. The `%%manim` magic command will:\n",
    "   - Generate the animation\n",
    "   - Save it as a video file\n",
    "   - Display it in the notebook\n",
    "\n",
    "3. The animations are set to medium quality (`-qm`) to balance file size and visual quality.\n",
    "\n",
    "**Note**: The first time you run Manim, it might take a moment to install dependencies and set up the environment."
   ]
  }
 ],
 "metadata": {
  "kernelspec": {
   "display_name": "Python 3 (ipykernel)",
   "language": "python",
   "name": "python3"
  },
  "language_info": {
   "codemirror_mode": {
    "name": "ipython",
    "version": 3
   },
   "file_extension": ".py",
   "mimetype": "text/x-python",
   "name": "python",
   "nbconvert_exporter": "python",
   "pygments_lexer": "ipython3",
   "version": "3.11.3"
  }
 },
 "nbformat": 4,
 "nbformat_minor": 2
}
